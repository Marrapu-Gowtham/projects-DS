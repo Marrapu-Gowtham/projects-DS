{
 "cells": [
  {
   "cell_type": "code",
   "execution_count": null,
   "id": "4279a85a",
   "metadata": {},
   "outputs": [],
   "source": [
    "import numpy as np\n",
    "import pandas as pd\n",
    "import matplotlib.pyplot as plt\n",
    "import plotly\n",
    "import plotly.graph_objs as go\n",
    "import plotly.tools as tls\n",
    "import seaborn as sns\n",
    "import time\n",
    "import warnings\n",
    "warnings.filterwarnings('ignore')"
   ]
  },
  {
   "cell_type": "code",
   "execution_count": null,
   "id": "408d340b",
   "metadata": {},
   "outputs": [],
   "source": [
    "global_temp_country = pd.read_csv(r'/Users/gowthammarrapu/Documents/untitled folder 2/GlobalLandTemperaturesByCountry.csv')\n",
    "global_temp_country.head()"
   ]
  },
  {
   "cell_type": "code",
   "execution_count": null,
   "id": "8a62e38f",
   "metadata": {},
   "outputs": [],
   "source": [
    "global_temp_country.shape"
   ]
  },
  {
   "cell_type": "code",
   "execution_count": null,
   "id": "e73d9290",
   "metadata": {},
   "outputs": [],
   "source": [
    "global_temp_country.isna().sum()"
   ]
  },
  {
   "cell_type": "code",
   "execution_count": null,
   "id": "d0ea183b",
   "metadata": {},
   "outputs": [],
   "source": [
    "## drop missing data\n",
    "global_temp_country.dropna(axis='index',how='any', subset=['AverageTemperature'],inplace=True)\n",
    "global_temp_country.isna().sum()"
   ]
  },
  {
   "cell_type": "code",
   "execution_count": null,
   "id": "99fbf367",
   "metadata": {},
   "outputs": [],
   "source": [
    "pd.set_option('display.max_rows',243)\n",
    "global_temp_country.groupby(['Country'])['AverageTemperature'].mean()"
   ]
  },
  {
   "cell_type": "code",
   "execution_count": null,
   "id": "d5f6862d",
   "metadata": {},
   "outputs": [],
   "source": [
    "### Lets check whether there is a duplicate value in country or not"
   ]
  },
  {
   "cell_type": "code",
   "execution_count": null,
   "id": "b842d9da",
   "metadata": {},
   "outputs": [],
   "source": [
    "global_temp_country['Country'].unique()"
   ]
  },
  {
   "cell_type": "code",
   "execution_count": null,
   "id": "b79aeb59",
   "metadata": {},
   "outputs": [],
   "source": [
    "dict={'Denmark (Europe)':'Denmark',\n",
    "      'France (Europe)':'France',\n",
    "      'Netherlands (Europe)':'Netherlands',\n",
    "      'United Kingdom (Europe)':'United Kingdom',\n",
    "     'Congo (Democratic Republic Of The)':'Congo'}"
   ]
  },
  {
   "cell_type": "code",
   "execution_count": null,
   "id": "39513806",
   "metadata": {},
   "outputs": [],
   "source": [
    "global_temp_country['Country']=global_temp_country['Country'].replace(dict)"
   ]
  },
  {
   "cell_type": "code",
   "execution_count": null,
   "id": "057bef64",
   "metadata": {},
   "outputs": [],
   "source": [
    "global_temp_country['Country'].nunique()"
   ]
  },
  {
   "cell_type": "code",
   "execution_count": null,
   "id": "ab62ccdf",
   "metadata": {},
   "outputs": [],
   "source": [
    "### let's calucutate the average temperature for each country"
   ]
  },
  {
   "cell_type": "code",
   "execution_count": null,
   "id": "7bc1b7b5",
   "metadata": {},
   "outputs": [],
   "source": [
    "pd.set_option('display.max_rows',243)\n",
    "avg_temp=global_temp_country.groupby(['Country'])['AverageTemperature'].mean().to_frame().reset_index()\n",
    "avg_temp.head()"
   ]
  },
  {
   "cell_type": "code",
   "execution_count": null,
   "id": "f60b6469",
   "metadata": {},
   "outputs": [],
   "source": [
    "import plotly.express as px\n",
    "import chart_studio.plotly as py\n",
    "import plotly.graph_objs as go\n",
    "import pandas as pd\n",
    "\n",
    "from plotly.offline import download_plotlyjs, init_notebook_mode, iplot, plot\n",
    "init_notebook_mode(connected = True)\n"
   ]
  },
  {
   "cell_type": "code",
   "execution_count": null,
   "id": "e93eb6c8",
   "metadata": {},
   "outputs": [],
   "source": [
    "import plotly.io as pio\n",
    "pio.renderers.default = 'notebook'\n",
    "\n",
    "\n",
    "fig = px.choropleth(avg_temp,locations='Country',locationmode='country names',color='AverageTemperature')\n",
    "fig.update_layout(title='Choropleth Map of AverageTemperature ',template=\"plotly_dark\")\n",
    "fig.show()"
   ]
  },
  {
   "cell_type": "code",
   "execution_count": null,
   "id": "d5cd7fce",
   "metadata": {},
   "outputs": [],
   "source": [
    "sns.barplot(x=avg_temp.sort_values(by='AverageTemperature',ascending=False)['AverageTemperature'][0:20],y=avg_temp.sort_values(by='AverageTemperature',ascending=False)['Country'][0:20])"
   ]
  },
  {
   "cell_type": "code",
   "execution_count": null,
   "id": "85553211",
   "metadata": {},
   "outputs": [],
   "source": [
    "### is there a global warming ?"
   ]
  },
  {
   "cell_type": "code",
   "execution_count": null,
   "id": "f1cbe4bf",
   "metadata": {},
   "outputs": [],
   "source": [
    "global_temp = pd.read_csv(r'/Users/gowthammarrapu/Documents/untitled folder 2/GlobalTemperatures.csv')\n",
    "global_temp.head()"
   ]
  },
  {
   "cell_type": "code",
   "execution_count": null,
   "id": "0275b68f",
   "metadata": {},
   "outputs": [],
   "source": [
    "global_temp_country.shape"
   ]
  },
  {
   "cell_type": "code",
   "execution_count": null,
   "id": "8d093f35",
   "metadata": {},
   "outputs": [],
   "source": [
    "global_temp['dt'][0].split('-')[0]"
   ]
  },
  {
   "cell_type": "code",
   "execution_count": null,
   "id": "c9f6a22e",
   "metadata": {},
   "outputs": [],
   "source": [
    "def fetch_year(date):\n",
    "    return date.split('-')[0]"
   ]
  },
  {
   "cell_type": "code",
   "execution_count": null,
   "id": "2b799e29",
   "metadata": {},
   "outputs": [],
   "source": [
    "global_temp['years']=global_temp['dt'].apply(fetch_year)"
   ]
  },
  {
   "cell_type": "code",
   "execution_count": null,
   "id": "7dceb42e",
   "metadata": {},
   "outputs": [],
   "source": [
    "global_temp.groupby('years').agg({'LandAverageTemperature':'mean','LandAverageTemperatureUncertainty':'mean'})"
   ]
  },
  {
   "cell_type": "code",
   "execution_count": null,
   "id": "b675d8a9",
   "metadata": {},
   "outputs": [],
   "source": [
    "data=global_temp.groupby('years').agg({'LandAverageTemperature':'mean','LandAverageTemperatureUncertainty':'mean'}).reset_index()\n",
    "data.head()"
   ]
  },
  {
   "cell_type": "code",
   "execution_count": null,
   "id": "d980d2fc",
   "metadata": {},
   "outputs": [],
   "source": [
    "data['Uncertainty top']=data['LandAverageTemperature']+data['LandAverageTemperatureUncertainty']\n",
    "data['Uncertainty bottom']=data['LandAverageTemperature']- data['LandAverageTemperatureUncertainty']"
   ]
  },
  {
   "cell_type": "code",
   "execution_count": null,
   "id": "dc53a9e9",
   "metadata": {},
   "outputs": [],
   "source": [
    "data.head()"
   ]
  },
  {
   "cell_type": "code",
   "execution_count": null,
   "id": "1ae5bf05",
   "metadata": {},
   "outputs": [],
   "source": [
    "import plotly.express as px\n",
    "fig=px.line(data,x=\"years\",y=[\"Uncertainty top\",\"Uncertainty bottom\",\"LandAverageTemperature\"],title=\"Average Land Temperature in World\",template=\"plotly_dark\")\n",
    "fig.show()"
   ]
  },
  {
   "cell_type": "code",
   "execution_count": null,
   "id": "7b9ec824",
   "metadata": {},
   "outputs": [],
   "source": [
    "   '''From the charts you can see, that there is global warming nowadays. The average temperature of Earth surface has the highest value in the last three centuries. \n",
    "    The fastest temperature growth occurred in the last 30 years! \n",
    "    This worries me, I hope soon humanity will fully switch to ecological \n",
    "    sources of energy, that will reduce CO2. If it’s will not happened, \n",
    "    we will be in disaster. This charts also have confidence intervals, \n",
    "    which shows that measurement of temperature has become more accurate in the last few years.'''"
   ]
  },
  {
   "cell_type": "code",
   "execution_count": null,
   "id": "ec0eb513",
   "metadata": {},
   "outputs": [],
   "source": [
    "### Analyse Average Temperature in each season "
   ]
  },
  {
   "cell_type": "code",
   "execution_count": null,
   "id": "7bf9bd85",
   "metadata": {},
   "outputs": [],
   "source": [
    "global_temp.head()"
   ]
  },
  {
   "cell_type": "code",
   "execution_count": null,
   "id": "5ad4bf1a",
   "metadata": {},
   "outputs": [],
   "source": [
    "global_temp.shape"
   ]
  },
  {
   "cell_type": "code",
   "execution_count": null,
   "id": "6fd6f25d",
   "metadata": {},
   "outputs": [],
   "source": [
    "global_temp['dt']=pd.to_datetime(global_temp['dt'])"
   ]
  },
  {
   "cell_type": "code",
   "execution_count": null,
   "id": "dc02187b",
   "metadata": {},
   "outputs": [],
   "source": [
    "global_temp['month'] = global_temp['dt'].dt.month"
   ]
  },
  {
   "cell_type": "code",
   "execution_count": null,
   "id": "2847c71f",
   "metadata": {},
   "outputs": [],
   "source": [
    "global_temp.drop('dt',axis=1,inplace=True)"
   ]
  },
  {
   "cell_type": "code",
   "execution_count": null,
   "id": "27f1707b",
   "metadata": {},
   "outputs": [],
   "source": [
    "global_temp.head()"
   ]
  },
  {
   "cell_type": "code",
   "execution_count": null,
   "id": "30476394",
   "metadata": {},
   "outputs": [],
   "source": [
    "global_temp.dtypes"
   ]
  },
  {
   "cell_type": "code",
   "execution_count": null,
   "id": "d3660500",
   "metadata": {},
   "outputs": [],
   "source": [
    "def get_season(month):\n",
    "    if month >= 3 and month <= 5:\n",
    "        return 'spring'\n",
    "    elif month >= 6 and month <= 8:\n",
    "        return 'summer'\n",
    "    elif month >= 9 and month <= 11:\n",
    "        return 'autumn'\n",
    "    else:\n",
    "        return 'winter'"
   ]
  },
  {
   "cell_type": "code",
   "execution_count": null,
   "id": "7ec7df9b",
   "metadata": {},
   "outputs": [],
   "source": [
    "global_temp['season'] = global_temp['month'].apply(get_season)"
   ]
  },
  {
   "cell_type": "code",
   "execution_count": null,
   "id": "f0689044",
   "metadata": {},
   "outputs": [],
   "source": [
    "global_temp.head()"
   ]
  },
  {
   "cell_type": "code",
   "execution_count": null,
   "id": "b332e8a2",
   "metadata": {},
   "outputs": [],
   "source": [
    "years=global_temp['years'].unique()"
   ]
  },
  {
   "cell_type": "code",
   "execution_count": null,
   "id": "fc0745f3",
   "metadata": {},
   "outputs": [],
   "source": [
    "spring_temps = []\n",
    "summer_temps = []\n",
    "autumn_temps = []\n",
    "winter_temps = []\n",
    "\n",
    "for year in years:\n",
    "    current_yr=global_temp[global_temp['years']==year]\n",
    "    spring_temps.append(current_yr[current_yr['season'] == 'spring']['LandAverageTemperature'].mean())\n",
    "    summer_temps.append(current_yr[current_yr['season'] == 'summer']['LandAverageTemperature'].mean())\n",
    "    autumn_temps.append(current_yr[current_yr['season'] == 'autumn']['LandAverageTemperature'].mean())\n",
    "    winter_temps.append(current_yr[current_yr['season'] == 'winter']['LandAverageTemperature'].mean())\n",
    "    "
   ]
  },
  {
   "cell_type": "code",
   "execution_count": null,
   "id": "f45c5a1d",
   "metadata": {},
   "outputs": [],
   "source": [
    "### lets make a dataframe of it\n",
    "season=pd.DataFrame()\n",
    "season['year']=years\n",
    "season['spring_temp']=spring_temps\n",
    "season['summer_temp']=summer_temps\n",
    "season['autumn_temp']=autumn_temps\n",
    "season['winter_temp']=winter_temps"
   ]
  },
  {
   "cell_type": "code",
   "execution_count": null,
   "id": "1299c8d6",
   "metadata": {},
   "outputs": [],
   "source": [
    "season.head()"
   ]
  },
  {
   "cell_type": "code",
   "execution_count": null,
   "id": "5fb59612",
   "metadata": {},
   "outputs": [],
   "source": [
    "season.columns"
   ]
  },
  {
   "cell_type": "code",
   "execution_count": null,
   "id": "496242d1",
   "metadata": {},
   "outputs": [],
   "source": [
    "import plotly.express as px\n",
    "fig=px.line(season,x=\"year\",y=['spring_temp', 'summer_temp', 'autumn_temp', 'winter_temp'],title=\"Average Temperature in Each season\", template=\"plotly_dark\")\n",
    "fig.show()"
   ]
  },
  {
   "cell_type": "code",
   "execution_count": null,
   "id": "3dbe70a0",
   "metadata": {},
   "outputs": [],
   "source": [
    "### is it getting warmer ? yes, it is"
   ]
  },
  {
   "cell_type": "code",
   "execution_count": null,
   "id": "53108813",
   "metadata": {},
   "outputs": [],
   "source": [
    "##### Analyse Trend In Temperatures for the Top Economies"
   ]
  },
  {
   "cell_type": "code",
   "execution_count": null,
   "id": "fd40d580",
   "metadata": {},
   "outputs": [],
   "source": [
    "continent = ['Russia', 'United States', 'China', 'Japan', 'Australia', 'India']"
   ]
  },
  {
   "cell_type": "code",
   "execution_count": null,
   "id": "55949bab",
   "metadata": {},
   "outputs": [],
   "source": [
    "global_temp_country.head()"
   ]
  },
  {
   "cell_type": "code",
   "execution_count": null,
   "id": "c57572f4",
   "metadata": {},
   "outputs": [],
   "source": [
    "continent_df=global_temp_country[global_temp_country['Country'].isin(continent)]"
   ]
  },
  {
   "cell_type": "code",
   "execution_count": null,
   "id": "b290cdbe",
   "metadata": {},
   "outputs": [],
   "source": [
    "continent_df.head()"
   ]
  },
  {
   "cell_type": "code",
   "execution_count": null,
   "id": "411e0eee",
   "metadata": {},
   "outputs": [],
   "source": [
    "continent_df.shape"
   ]
  },
  {
   "cell_type": "code",
   "execution_count": null,
   "id": "06a6f630",
   "metadata": {},
   "outputs": [],
   "source": [
    "continent_df['years']=continent_df['dt'].apply(fetch_year)"
   ]
  },
  {
   "cell_type": "code",
   "execution_count": null,
   "id": "5477e928",
   "metadata": {},
   "outputs": [],
   "source": [
    "continent_df.head()"
   ]
  },
  {
   "cell_type": "code",
   "execution_count": null,
   "id": "236beeba",
   "metadata": {},
   "outputs": [],
   "source": [
    "continent_df.groupby(['years','Country']).agg({'AverageTemperature':'mean'})"
   ]
  },
  {
   "cell_type": "code",
   "execution_count": null,
   "id": "170baab2",
   "metadata": {},
   "outputs": [],
   "source": [
    "avg_temp=continent_df.groupby(['years','Country']).agg({'AverageTemperature':'mean'}).reset_index()\n",
    "avg_temp.head(10)"
   ]
  },
  {
   "cell_type": "code",
   "execution_count": null,
   "id": "876aa65b",
   "metadata": {},
   "outputs": [],
   "source": [
    "import plotly.express as px\n",
    "fig=px.line(avg_temp,x=\"years\",y=[\"AverageTemperature\"],color='Country',title=\"Average Land Temperature in World\",template=\"plotly_dark\")\n",
    "fig.show()"
   ]
  },
  {
   "cell_type": "code",
   "execution_count": null,
   "id": "0770c9e8",
   "metadata": {},
   "outputs": [],
   "source": [
    "### ### Conclusion-->> We will see that  there has been a global increase trend in temperature, particularly over the last 30 years. This is due to the violent activities of a humankind. "
   ]
  },
  {
   "cell_type": "code",
   "execution_count": null,
   "id": "34651b02",
   "metadata": {},
   "outputs": [],
   "source": [
    "### ## USA Map For State Temperatures"
   ]
  },
  {
   "cell_type": "code",
   "execution_count": null,
   "id": "470ee724",
   "metadata": {},
   "outputs": [],
   "source": [
    "global_temp_state = pd.read_csv(r'/Users/gowthammarrapu/Documents/untitled folder 2/GlobalLandTemperaturesByState.csv')\n",
    "global_temp_state.head()"
   ]
  },
  {
   "cell_type": "code",
   "execution_count": null,
   "id": "5e0d653b",
   "metadata": {},
   "outputs": [],
   "source": [
    "USA=global_temp_state[global_temp_state['Country']=='United States']"
   ]
  },
  {
   "cell_type": "code",
   "execution_count": null,
   "id": "7e88132f",
   "metadata": {},
   "outputs": [],
   "source": [
    "USA.dropna(inplace=True)"
   ]
  },
  {
   "cell_type": "code",
   "execution_count": null,
   "id": "f20fa80b",
   "metadata": {},
   "outputs": [],
   "source": [
    "USA['State'].unique()"
   ]
  },
  {
   "cell_type": "code",
   "execution_count": null,
   "id": "f9259135",
   "metadata": {},
   "outputs": [],
   "source": [
    "state={'Georgia (State)':'Georgia','District Of Columbia':'Columbia'}"
   ]
  },
  {
   "cell_type": "code",
   "execution_count": null,
   "id": "b1b99646",
   "metadata": {},
   "outputs": [],
   "source": [
    "USA['State'].replace(state,inplace=True)"
   ]
  },
  {
   "cell_type": "code",
   "execution_count": null,
   "id": "5cbd36ea",
   "metadata": {},
   "outputs": [],
   "source": [
    "USA=USA[['AverageTemperature','State']]"
   ]
  },
  {
   "cell_type": "code",
   "execution_count": null,
   "id": "50b0fa6c",
   "metadata": {},
   "outputs": [],
   "source": [
    "USA_temp=USA.groupby('State')['AverageTemperature'].mean().reset_index()"
   ]
  },
  {
   "cell_type": "code",
   "execution_count": null,
   "id": "e819fc83",
   "metadata": {},
   "outputs": [],
   "source": [
    "USA_temp.head()"
   ]
  },
  {
   "cell_type": "code",
   "execution_count": null,
   "id": "e39c2240",
   "metadata": {},
   "outputs": [],
   "source": [
    "USA_temp.shape"
   ]
  },
  {
   "cell_type": "code",
   "execution_count": null,
   "id": "9afead85",
   "metadata": {},
   "outputs": [],
   "source": [
    "from opencage.geocoder import OpenCageGeocode"
   ]
  },
  {
   "cell_type": "code",
   "execution_count": null,
   "id": "afad5777",
   "metadata": {},
   "outputs": [],
   "source": [
    "key = '5ca89e8267cb476a88cd247f5d0dc35d'  # get api key from:  https://opencagedata.com/api\n",
    "geocoder = OpenCageGeocode(key)\n",
    "query = 'Bijuesca, Spain'  \n",
    "results = geocoder.geocode(query)\n",
    "print (results)"
   ]
  },
  {
   "cell_type": "code",
   "execution_count": null,
   "id": "69affb4b-1074-4a10-8ad2-6cbf052e9ec6",
   "metadata": {},
   "outputs": [],
   "source": [
    "lat = results[0]['geometry']['lat']\n",
    "lon = results[0]['geometry']['lng']\n",
    "print (lat, lon)"
   ]
  },
  {
   "cell_type": "code",
   "execution_count": null,
   "id": "917e1722-5a42-4e1e-873e-6c78907601ba",
   "metadata": {},
   "outputs": [],
   "source": [
    "list_lat=[]\n",
    "list_long=[]\n",
    "for state in USA_temp['State']: # iterate over rows in dataframe\n",
    "    results = geocoder.geocode(state)   \n",
    "    lat = results[0]['geometry']['lat']\n",
    "    lon = results[0]['geometry']['lng']\n",
    "\n",
    "    list_lat.append(lat)\n",
    "    list_long.append(lon)"
   ]
  },
  {
   "cell_type": "code",
   "execution_count": null,
   "id": "e30478ee-68d3-456f-89f9-477a0915a6cf",
   "metadata": {},
   "outputs": [],
   "source": [
    "# create new columns from lists    \n",
    "\n",
    "USA_temp['lat'] = list_lat   \n",
    "USA_temp['lon'] = list_long"
   ]
  },
  {
   "cell_type": "code",
   "execution_count": null,
   "id": "28f48985-d8f3-433d-a703-f6ad6e509d66",
   "metadata": {},
   "outputs": [],
   "source": [
    "USA_temp.head()"
   ]
  },
  {
   "cell_type": "code",
   "execution_count": null,
   "id": "0247ca7a-37ea-4866-9242-4973c1d495b7",
   "metadata": {},
   "outputs": [],
   "source": [
    "import folium\n",
    "from folium.plugins import HeatMap\n",
    "basemap=folium.Map()"
   ]
  },
  {
   "cell_type": "code",
   "execution_count": null,
   "id": "f22e74f2-7e3a-4959-ae65-6b75dd5b5746",
   "metadata": {},
   "outputs": [],
   "source": [
    "HeatMap(USA_temp[['lat','lon','AverageTemperature']],zoom=20,radius=15).add_to(basemap)\n",
    "basemap"
   ]
  },
  {
   "cell_type": "code",
   "execution_count": null,
   "id": "1aa34610-5e01-4037-9b4a-e783ee984a14",
   "metadata": {},
   "outputs": [],
   "source": [
    "### ## Analyse Average Temperature Of Major Indian Cities By Month"
   ]
  },
  {
   "cell_type": "code",
   "execution_count": null,
   "id": "b695b174-18e6-4683-9261-c4c828d71a0e",
   "metadata": {},
   "outputs": [],
   "source": [
    "cities=pd.read_csv(r'/Users/gowthammarrapu/Documents/untitled folder 2/GlobalLandTemperaturesByMajorCity.csv')\n",
    "cities.head()"
   ]
  },
  {
   "cell_type": "code",
   "execution_count": null,
   "id": "1fb93971-a250-4609-8f32-6df596cd54ef",
   "metadata": {},
   "outputs": [],
   "source": [
    "cities.shape"
   ]
  },
  {
   "cell_type": "code",
   "execution_count": null,
   "id": "aee03f61-42ac-4f38-908b-0a8ebef814df",
   "metadata": {},
   "outputs": [],
   "source": [
    "India=cities[cities['Country']=='India']"
   ]
  },
  {
   "cell_type": "code",
   "execution_count": null,
   "id": "3c517e9a-cdeb-451d-a810-26dcdef3cad8",
   "metadata": {},
   "outputs": [],
   "source": [
    "India['City'].unique()"
   ]
  },
  {
   "cell_type": "code",
   "execution_count": null,
   "id": "0b007992-26ed-4d00-99b7-d5e595d990a3",
   "metadata": {},
   "outputs": [],
   "source": [
    "Cities=['New Delhi','Bangalore','Hyderabad','Pune','Madras','Varanasi','Gurgaon']"
   ]
  },
  {
   "cell_type": "code",
   "execution_count": null,
   "id": "dede994e-c58d-4864-8e4b-27031b08b500",
   "metadata": {},
   "outputs": [],
   "source": [
    "cities=India[India['City'].isin(Cities)]"
   ]
  },
  {
   "cell_type": "code",
   "execution_count": null,
   "id": "06a46cb5-5751-4c57-a1bb-d7d174ae5042",
   "metadata": {},
   "outputs": [],
   "source": [
    "cities.shape"
   ]
  },
  {
   "cell_type": "code",
   "execution_count": null,
   "id": "4b8a6a9b-8b18-496f-9fe0-d90bdfcafc6c",
   "metadata": {},
   "outputs": [],
   "source": [
    "cities.head()"
   ]
  },
  {
   "cell_type": "code",
   "execution_count": null,
   "id": "b96a7203-9eb7-4fc8-88cb-c4d7ed159d4c",
   "metadata": {},
   "outputs": [],
   "source": [
    "## remove N & E from lat & Lon\n",
    "cities['Latitude']=cities['Latitude'].str.strip('N')\n",
    "cities['Longitude']=cities['Longitude'].str.strip('E')"
   ]
  },
  {
   "cell_type": "code",
   "execution_count": null,
   "id": "01c01d67-8768-425c-b50a-c052077cf2b6",
   "metadata": {},
   "outputs": [],
   "source": [
    "cities.head()"
   ]
  },
  {
   "cell_type": "code",
   "execution_count": null,
   "id": "d83fc890-326b-4a00-a9ef-07dd52437059",
   "metadata": {},
   "outputs": [],
   "source": [
    "cities['dt']=pd.to_datetime(cities['dt'])"
   ]
  },
  {
   "cell_type": "code",
   "execution_count": null,
   "id": "baf09e17-bf13-47a8-b33c-81dbc03944e3",
   "metadata": {},
   "outputs": [],
   "source": [
    "cities['Month']=cities['dt'].dt.month\n",
    "cities.drop('dt',axis=1,inplace=True)"
   ]
  },
  {
   "cell_type": "code",
   "execution_count": null,
   "id": "27840c6e-c0ac-443a-920f-83c9d98691ae",
   "metadata": {},
   "outputs": [],
   "source": [
    "cities.head()"
   ]
  },
  {
   "cell_type": "code",
   "execution_count": null,
   "id": "a3b52dd2-07bc-42ef-beb6-8ad0475d25b2",
   "metadata": {},
   "outputs": [],
   "source": [
    "cities.groupby(['Month','City'])['AverageTemperature'].mean().to_frame()"
   ]
  },
  {
   "cell_type": "code",
   "execution_count": null,
   "id": "7a214bd1-4d57-44b5-9879-b090b716a60b",
   "metadata": {},
   "outputs": [],
   "source": [
    "cities_temp=cities.groupby(['Month','City'])['AverageTemperature'].mean().to_frame().reset_index()\n",
    "cities_temp.columns=['month','City','Mean_temp']\n",
    "cities_temp.head()"
   ]
  },
  {
   "cell_type": "code",
   "execution_count": null,
   "id": "a812e526-74aa-472d-a0c5-b34af7f89f69",
   "metadata": {},
   "outputs": [],
   "source": [
    "df=cities_temp.merge(cities,on='City',how='left')\n",
    "df.head()"
   ]
  },
  {
   "cell_type": "code",
   "execution_count": null,
   "id": "9d012482-a676-4eb3-b209-d66c387331e4",
   "metadata": {},
   "outputs": [],
   "source": [
    "data=df.drop_duplicates(subset=['month','City'])"
   ]
  },
  {
   "cell_type": "code",
   "execution_count": null,
   "id": "8a8ba34c-169c-41b9-8df1-a149e0cd1755",
   "metadata": {},
   "outputs": [],
   "source": [
    "data.head()"
   ]
  },
  {
   "cell_type": "code",
   "execution_count": null,
   "id": "5fcf1e0d-228d-4c45-9617-e8a0e9fc69b4",
   "metadata": {},
   "outputs": [],
   "source": [
    "data2=data[['month','City','Mean_temp','Country','Latitude','Longitude']]\n",
    "data2.head()"
   ]
  },
  {
   "cell_type": "code",
   "execution_count": null,
   "id": "766ff847-6118-4ad5-aedf-ddb1e9f10638",
   "metadata": {},
   "outputs": [],
   "source": [
    "trace = go.Heatmap(z=data2['Mean_temp'],\n",
    "                   x=data2['month'],\n",
    "                   y=data2['City'],\n",
    "                  colorscale='Viridis')"
   ]
  },
  {
   "cell_type": "code",
   "execution_count": null,
   "id": "ce12088b-9e37-42b5-b269-afbe6684bd43",
   "metadata": {},
   "outputs": [],
   "source": [
    "data=[trace]\n",
    "layout = go.Layout(\n",
    "    title='Average Temperature Of Major Cities By Month',\n",
    ")"
   ]
  },
  {
   "cell_type": "code",
   "execution_count": null,
   "id": "a4e5f150-1cc0-4b89-a522-df6086b5565d",
   "metadata": {},
   "outputs": [],
   "source": [
    "fig = go.Figure(data=data, layout=layout)\n",
    "fig.show()"
   ]
  }
 ],
 "metadata": {
  "kernelspec": {
   "display_name": "Python 3 (ipykernel)",
   "language": "python",
   "name": "python3"
  },
  "language_info": {
   "codemirror_mode": {
    "name": "ipython",
    "version": 3
   },
   "file_extension": ".py",
   "mimetype": "text/x-python",
   "name": "python",
   "nbconvert_exporter": "python",
   "pygments_lexer": "ipython3",
   "version": "3.10.13"
  }
 },
 "nbformat": 4,
 "nbformat_minor": 5
}
