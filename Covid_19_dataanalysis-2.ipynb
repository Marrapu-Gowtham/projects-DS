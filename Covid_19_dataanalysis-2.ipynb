{
 "cells": [
  {
   "cell_type": "code",
   "execution_count": null,
   "id": "545539d2",
   "metadata": {},
   "outputs": [],
   "source": [
    "import numpy as np\n",
    "import pandas as pd\n",
    "import matplotlib.pyplot as plt\n",
    "import seaborn as sns\n",
    "\n",
    "import plotly.graph_objects as go\n",
    "import plotly.express as px\n",
    "\n",
    "import warnings\n",
    "warnings.filterwarnings('ignore')"
   ]
  },
  {
   "cell_type": "code",
   "execution_count": null,
   "id": "1e97ffb3",
   "metadata": {},
   "outputs": [],
   "source": [
    "import os"
   ]
  },
  {
   "cell_type": "code",
   "execution_count": null,
   "id": "e0c4a31b",
   "metadata": {},
   "outputs": [],
   "source": [
    "files=os.listdir(r'/Users/gowthammarrapu/Documents/untitled folder 2/Covid-19')\n",
    "files"
   ]
  },
  {
   "cell_type": "code",
   "execution_count": null,
   "id": "2d38cd1b",
   "metadata": {},
   "outputs": [],
   "source": [
    "def read_data(path,filename):\n",
    "    return pd.read_csv(path+'/'+filename)"
   ]
  },
  {
   "cell_type": "code",
   "execution_count": null,
   "id": "79805fa8",
   "metadata": {},
   "outputs": [],
   "source": [
    "path='/Users/gowthammarrapu/Documents/untitled folder 2/Covid-19'\n",
    "world_data=read_data(path,'worldometer_data.csv')"
   ]
  },
  {
   "cell_type": "code",
   "execution_count": null,
   "id": "d12253b5",
   "metadata": {},
   "outputs": [],
   "source": [
    "day_wise=read_data(path,files[2])"
   ]
  },
  {
   "cell_type": "code",
   "execution_count": null,
   "id": "18efe4af",
   "metadata": {},
   "outputs": [],
   "source": [
    "group_data=read_data(path,files[3])"
   ]
  },
  {
   "cell_type": "code",
   "execution_count": null,
   "id": "72cd0be9",
   "metadata": {},
   "outputs": [],
   "source": [
    "usa_data=read_data(path,files[4])"
   ]
  },
  {
   "cell_type": "code",
   "execution_count": null,
   "id": "00f9f37c",
   "metadata": {},
   "outputs": [],
   "source": [
    "usa_data=read_data(path,files[4])"
   ]
  },
  {
   "cell_type": "code",
   "execution_count": null,
   "id": "1a674a4b",
   "metadata": {},
   "outputs": [],
   "source": [
    "#### Which Country has maximum Total cases, Deaths, Recovered & active cases \n",
    "#### lets create TreeMap Representation of our data"
   ]
  },
  {
   "cell_type": "code",
   "execution_count": null,
   "id": "d82c6a1b",
   "metadata": {},
   "outputs": [],
   "source": [
    "world_data.columns"
   ]
  },
  {
   "cell_type": "code",
   "execution_count": null,
   "id": "e360d0b3",
   "metadata": {},
   "outputs": [],
   "source": [
    "columns=['TotalCases','TotalDeaths','TotalRecovered','ActiveCases']\n",
    "for i in columns:\n",
    "    fig=px.treemap(world_data[0:20],values=i,path=['Country/Region'],template=\"plotly_dark\",title=\"<b>TreeMap representation of different Countries w.r.t. their {}</b>\".format(i))\n",
    "    fig.show()"
   ]
  },
  {
   "cell_type": "code",
   "execution_count": null,
   "id": "3cb3ffc3",
   "metadata": {},
   "outputs": [],
   "source": [
    "### what is the trend of Confirmed Deaths Recovered Active cases"
   ]
  },
  {
   "cell_type": "code",
   "execution_count": null,
   "id": "c50f94d1",
   "metadata": {},
   "outputs": [],
   "source": [
    "fig=px.line(day_wise,x=\"Date\",y=[\"Confirmed\",\"Deaths\",\"Recovered\",\"Active\"],title=\"covid cases w.r.t. date\",template=\"plotly_dark\")\n",
    "fig.show()"
   ]
  },
  {
   "cell_type": "code",
   "execution_count": null,
   "id": "5b45cfe3",
   "metadata": {},
   "outputs": [],
   "source": [
    "### finding 20 most effected countries"
   ]
  },
  {
   "cell_type": "code",
   "execution_count": null,
   "id": "ca0069e5",
   "metadata": {},
   "outputs": [],
   "source": [
    "pop_test_ratio=world_data.iloc[0:20]['Population']/world_data.iloc[0:20]['TotalTests']"
   ]
  },
  {
   "cell_type": "code",
   "execution_count": null,
   "id": "a58c85cc",
   "metadata": {},
   "outputs": [],
   "source": [
    "pop_test_ratio"
   ]
  },
  {
   "cell_type": "code",
   "execution_count": null,
   "id": "e0e8ca9b",
   "metadata": {},
   "outputs": [],
   "source": [
    "fig=px.bar(world_data.iloc[0:20],color='Country/Region',y=pop_test_ratio,x='Country/Region',template=\"plotly_dark\",title=\"<b>population to tests done ratio</b>\")\n",
    "fig.show()"
   ]
  },
  {
   "cell_type": "code",
   "execution_count": null,
   "id": "e47a52c8",
   "metadata": {},
   "outputs": [],
   "source": [
    "### 20 countries that are badly affected by corona "
   ]
  },
  {
   "cell_type": "code",
   "execution_count": null,
   "id": "4bf1f84c",
   "metadata": {},
   "outputs": [],
   "source": [
    "fig=px.bar(world_data.iloc[0:20],x='Country/Region',y=['Serious,Critical','TotalDeaths','TotalRecovered','ActiveCases','TotalCases'],template=\"plotly_dark\")"
   ]
  },
  {
   "cell_type": "code",
   "execution_count": null,
   "id": "df9400c4",
   "metadata": {},
   "outputs": [],
   "source": [
    "fig.update_layout({'title':\"Coronavirus cases w.r.t. time\"})\n",
    "fig.show()"
   ]
  },
  {
   "cell_type": "code",
   "execution_count": null,
   "id": "8b69296a",
   "metadata": {},
   "outputs": [],
   "source": [
    "world_data.head()"
   ]
  },
  {
   "cell_type": "code",
   "execution_count": null,
   "id": "765d37a1",
   "metadata": {},
   "outputs": [],
   "source": [
    "world_data['Country/Region'].nunique()"
   ]
  },
  {
   "cell_type": "code",
   "execution_count": null,
   "id": "6cfc5626",
   "metadata": {},
   "outputs": [],
   "source": [
    "### Top 20 countries of Total Confirmed cases"
   ]
  },
  {
   "cell_type": "code",
   "execution_count": null,
   "id": "8df4c05b",
   "metadata": {},
   "outputs": [],
   "source": [
    "fig=px.bar(world_data.iloc[0:20],y='Country/Region',x='TotalCases',color='TotalCases',text=\"TotalCases\")\n",
    "fig.update_layout(template=\"plotly_dark\",title_text=\"<b>Top 20 countries of Total confirmed cases</b>\")\n",
    "fig.show()"
   ]
  },
  {
   "cell_type": "code",
   "execution_count": null,
   "id": "25778f7b",
   "metadata": {},
   "outputs": [],
   "source": [
    "### Top 20 countries of Total deaths"
   ]
  },
  {
   "cell_type": "code",
   "execution_count": null,
   "id": "e12cefe7",
   "metadata": {},
   "outputs": [],
   "source": [
    "fig=px.bar(world_data.sort_values(by='TotalDeaths',ascending=False)[0:20],y='Country/Region',x='TotalDeaths',color='TotalDeaths',text=\"TotalDeaths\")\n",
    "fig.update_layout(template=\"plotly_dark\",title_text=\"<b>Top 20 countries of Total deaths</b>\")\n",
    "fig.show()"
   ]
  },
  {
   "cell_type": "code",
   "execution_count": null,
   "id": "7910a924",
   "metadata": {},
   "outputs": [],
   "source": [
    "### Top 20 countries of Total active cases"
   ]
  },
  {
   "cell_type": "code",
   "execution_count": null,
   "id": "86b5933f",
   "metadata": {},
   "outputs": [],
   "source": [
    "fig=px.bar(world_data.sort_values(by='ActiveCases',ascending=False)[0:20], y='Country/Region',x='ActiveCases',color='ActiveCases',text='ActiveCases')\n",
    "fig.update_layout(template=\"plotly_dark\",title_text=\"<b>Top 20 countries of Total Active cases\")\n",
    "fig.show()"
   ]
  },
  {
   "cell_type": "code",
   "execution_count": null,
   "id": "642b4d6d",
   "metadata": {},
   "outputs": [],
   "source": [
    "### Top 20 countries of Total Recoveries"
   ]
  },
  {
   "cell_type": "code",
   "execution_count": null,
   "id": "43128500",
   "metadata": {},
   "outputs": [],
   "source": [
    "fig=px.bar(world_data.sort_values(by='TotalRecovered',ascending=False)[:20],y='Country/Region',x='TotalRecovered',color='TotalRecovered',text='TotalRecovered')\n",
    "fig.update_layout(template=\"plotly_dark\",title_text=\"<b>Top 20 countries of Total Recovered\")\n",
    "fig.show()"
   ]
  },
  {
   "cell_type": "code",
   "execution_count": null,
   "id": "ea74dfd2",
   "metadata": {},
   "outputs": [],
   "source": [
    "world_data.columns"
   ]
  },
  {
   "cell_type": "code",
   "execution_count": null,
   "id": "0dbe34d5",
   "metadata": {},
   "outputs": [],
   "source": [
    "world_data[0:15]['Country/Region'].values"
   ]
  },
  {
   "cell_type": "code",
   "execution_count": null,
   "id": "bf4fd563",
   "metadata": {},
   "outputs": [],
   "source": [
    "### Pie Chart Representation of stats of worst affected countries"
   ]
  },
  {
   "cell_type": "code",
   "execution_count": null,
   "id": "c5cd73af",
   "metadata": {},
   "outputs": [],
   "source": [
    "labels=world_data[0:15]['Country/Region'].values\n",
    "cases=['TotalCases','TotalDeaths','TotalRecovered','ActiveCases']\n",
    "for i in cases:\n",
    "    fig=px.pie(world_data[0:15],values=i,names=labels,template=\"plotly_dark\",hole=0.3,title=\" {} Recordeded w.r.t. to WHO Region of 15 worst effected countries \".format(i))\n",
    "    fig.show()"
   ]
  },
  {
   "cell_type": "code",
   "execution_count": null,
   "id": "b4cb36a1",
   "metadata": {},
   "outputs": [],
   "source": [
    "### Deaths to Confirmed ratio"
   ]
  },
  {
   "cell_type": "code",
   "execution_count": null,
   "id": "38c065ac",
   "metadata": {},
   "outputs": [],
   "source": [
    "deaths_to_confirmed=((world_data['TotalDeaths']/world_data['TotalCases']))\n",
    "fig = px.bar(world_data,x='Country/Region',y=deaths_to_confirmed)\n",
    "fig.update_layout(title={'text':\"Death to confirmed ratio of some  worst effected countries\",'xanchor':'left'},template=\"plotly_dark\")\n",
    "fig.show()"
   ]
  },
  {
   "cell_type": "code",
   "execution_count": null,
   "id": "183c715a",
   "metadata": {},
   "outputs": [],
   "source": [
    "### Deaths to recovered ratio"
   ]
  },
  {
   "cell_type": "code",
   "execution_count": null,
   "id": "c6fd39ff",
   "metadata": {},
   "outputs": [],
   "source": [
    "deaths_to_recovered=((world_data['TotalDeaths']/world_data['TotalRecovered']))\n",
    "fig = px.bar(world_data,x='Country/Region',y=deaths_to_recovered)\n",
    "fig.update_layout(title={'text':\"Death to recovered ratio of some  worst effected countries\",'xanchor':'left'},template=\"plotly_dark\")\n",
    "fig.show()\n"
   ]
  },
  {
   "cell_type": "code",
   "execution_count": null,
   "id": "eaa8daab",
   "metadata": {},
   "outputs": [],
   "source": [
    "### Tests to Confirmed Ratio"
   ]
  },
  {
   "cell_type": "code",
   "execution_count": null,
   "id": "9c6c5ee6",
   "metadata": {},
   "outputs": [],
   "source": [
    "tests_to_confirmed=((world_data['TotalTests']/world_data['TotalCases']))\n",
    "fig = px.bar(world_data,x='Country/Region',y=tests_to_confirmed)\n",
    "fig.update_layout(title={'text':\"Tests to confirmed ratio of some  worst effected countries\",'xanchor':'left'},template=\"plotly_dark\")\n",
    "fig.show()"
   ]
  },
  {
   "cell_type": "code",
   "execution_count": null,
   "id": "22267653",
   "metadata": {},
   "outputs": [],
   "source": [
    "### Serious to Deaths Ratio"
   ]
  },
  {
   "cell_type": "code",
   "execution_count": null,
   "id": "a70506b5",
   "metadata": {},
   "outputs": [],
   "source": [
    "serious_to_death=((world_data['Serious,Critical']/world_data['TotalDeaths']))\n",
    "fig = px.bar(world_data,x='Country/Region',y=serious_to_death)\n",
    "fig.update_layout(title={'text':\"serious to Death ratio of some  worst effected countries\",'xanchor':'left'},template=\"plotly_dark\")\n",
    "fig.show()"
   ]
  },
  {
   "cell_type": "code",
   "execution_count": null,
   "id": "dac13fa8",
   "metadata": {},
   "outputs": [],
   "source": [
    "#### Visualize Confirmed,  Active,  Recovered , Deaths Cases(entire statistics ) of a particular country"
   ]
  },
  {
   "cell_type": "code",
   "execution_count": null,
   "id": "17516fd0",
   "metadata": {},
   "outputs": [],
   "source": [
    "group_data.head()"
   ]
  },
  {
   "cell_type": "code",
   "execution_count": null,
   "id": "ba1f3e7d",
   "metadata": {},
   "outputs": [],
   "source": [
    "from plotly.subplots import make_subplots\n",
    "import plotly.graph_objects as go"
   ]
  },
  {
   "cell_type": "code",
   "execution_count": null,
   "id": "799bb77c",
   "metadata": {},
   "outputs": [],
   "source": [
    "\n",
    "def country_visualization(group_data,country):\n",
    "    \n",
    "    data=group_data[group_data['Country/Region']==country]\n",
    "    df=data.loc[:,['Date','Confirmed','Deaths','Recovered','Active']]\n",
    "    fig = make_subplots(rows=1, cols=4,subplot_titles=(\"Confirmed\", \"Active\", \"Recovered\",'Deaths'))\n",
    "    fig.add_trace(\n",
    "        go.Scatter(name=\"Confirmed\",x=df['Date'],y=df['Confirmed']),\n",
    "        row=1, col=1\n",
    "    )\n",
    "\n",
    "    fig.add_trace(\n",
    "        go.Scatter(name=\"Active\",x=df['Date'],y=df['Active']),\n",
    "        row=1, col=2\n",
    "    )\n",
    "    fig.add_trace(\n",
    "        go.Scatter(name=\"Recovered\",x=df['Date'],y=df['Recovered']),\n",
    "        row=1, col=3\n",
    "    )\n",
    "\n",
    "    fig.add_trace(\n",
    "        go.Scatter(name=\"Deaths\",x=df['Date'],y=df['Deaths']),\n",
    "        row=1, col=4\n",
    "    )\n",
    "\n",
    "    fig.update_layout(height=600, width=1000, title_text=\"Date Vs Recorded Cases of {}\".format(country),template=\"plotly_dark\")\n",
    "    fig.show()"
   ]
  },
  {
   "cell_type": "code",
   "execution_count": null,
   "id": "fabceacb",
   "metadata": {},
   "outputs": [],
   "source": [
    "country_visualization(group_data,'India')"
   ]
  },
  {
   "cell_type": "code",
   "execution_count": null,
   "id": "f2d63832",
   "metadata": {},
   "outputs": [],
   "source": [
    "country_visualization(group_data,'US')"
   ]
  }
 ],
 "metadata": {
  "kernelspec": {
   "display_name": "Python 3 (ipykernel)",
   "language": "python",
   "name": "python3"
  },
  "language_info": {
   "codemirror_mode": {
    "name": "ipython",
    "version": 3
   },
   "file_extension": ".py",
   "mimetype": "text/x-python",
   "name": "python",
   "nbconvert_exporter": "python",
   "pygments_lexer": "ipython3",
   "version": "3.9.19"
  }
 },
 "nbformat": 4,
 "nbformat_minor": 5
}
