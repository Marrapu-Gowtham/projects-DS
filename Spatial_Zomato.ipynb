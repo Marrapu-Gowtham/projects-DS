{
 "cells": [
  {
   "cell_type": "code",
   "execution_count": 1,
   "id": "d4e27964",
   "metadata": {},
   "outputs": [],
   "source": [
    "import pandas as pd\n",
    "import numpy as np\n",
    "import matplotlib.pyplot as plt\n",
    "import seaborn as sns"
   ]
  },
  {
   "cell_type": "code",
   "execution_count": 2,
   "id": "d3555ed3",
   "metadata": {},
   "outputs": [],
   "source": [
    "data = pd.read_csv(r'/Users/gowthammarrapu/Documents/untitled folder 2/zomato.csv')"
   ]
  },
  {
   "cell_type": "code",
   "execution_count": 3,
   "id": "791332d9",
   "metadata": {},
   "outputs": [
    {
     "data": {
      "text/plain": [
       "pandas.core.frame.DataFrame"
      ]
     },
     "execution_count": 3,
     "metadata": {},
     "output_type": "execute_result"
    }
   ],
   "source": [
    "type(data)"
   ]
  },
  {
   "cell_type": "code",
   "execution_count": 4,
   "id": "da63a60c",
   "metadata": {},
   "outputs": [
    {
     "data": {
      "text/plain": [
       "(Index(['url', 'address', 'name', 'online_order', 'book_table', 'rate', 'votes',\n",
       "        'phone', 'location', 'rest_type', 'dish_liked', 'cuisines',\n",
       "        'approx_cost(for two people)', 'reviews_list', 'menu_item',\n",
       "        'listed_in(type)', 'listed_in(city)'],\n",
       "       dtype='object'),\n",
       " (51717, 17))"
      ]
     },
     "execution_count": 4,
     "metadata": {},
     "output_type": "execute_result"
    }
   ],
   "source": [
    "data.columns,data.shape"
   ]
  },
  {
   "cell_type": "code",
   "execution_count": 5,
   "id": "cb856507",
   "metadata": {},
   "outputs": [
    {
     "data": {
      "text/plain": [
       "(0,\n",
       " url                                0\n",
       " address                            0\n",
       " name                               0\n",
       " online_order                       0\n",
       " book_table                         0\n",
       " rate                            7775\n",
       " votes                              0\n",
       " phone                           1208\n",
       " location                          21\n",
       " rest_type                        227\n",
       " dish_liked                     28078\n",
       " cuisines                          45\n",
       " approx_cost(for two people)      346\n",
       " reviews_list                       0\n",
       " menu_item                          0\n",
       " listed_in(type)                    0\n",
       " listed_in(city)                    0\n",
       " dtype: int64)"
      ]
     },
     "execution_count": 5,
     "metadata": {},
     "output_type": "execute_result"
    }
   ],
   "source": [
    "data.duplicated().sum(),data.isnull().sum()"
   ]
  },
  {
   "cell_type": "code",
   "execution_count": 6,
   "id": "ba45b456",
   "metadata": {},
   "outputs": [],
   "source": [
    "data.dropna(subset=['location'] , inplace = True)"
   ]
  },
  {
   "cell_type": "code",
   "execution_count": 7,
   "id": "ea478e0d",
   "metadata": {},
   "outputs": [
    {
     "data": {
      "text/plain": [
       "url                                0\n",
       "address                            0\n",
       "name                               0\n",
       "online_order                       0\n",
       "book_table                         0\n",
       "rate                            7754\n",
       "votes                              0\n",
       "phone                           1187\n",
       "location                           0\n",
       "rest_type                        206\n",
       "dish_liked                     28057\n",
       "cuisines                          24\n",
       "approx_cost(for two people)      325\n",
       "reviews_list                       0\n",
       "menu_item                          0\n",
       "listed_in(type)                    0\n",
       "listed_in(city)                    0\n",
       "dtype: int64"
      ]
     },
     "execution_count": 7,
     "metadata": {},
     "output_type": "execute_result"
    }
   ],
   "source": [
    "data.isnull().sum()"
   ]
  },
  {
   "cell_type": "code",
   "execution_count": 8,
   "id": "c95aee61",
   "metadata": {},
   "outputs": [],
   "source": [
    "df = data.copy()"
   ]
  },
  {
   "cell_type": "code",
   "execution_count": 9,
   "id": "b4e60c68",
   "metadata": {},
   "outputs": [
    {
     "data": {
      "text/html": [
       "<div>\n",
       "<style scoped>\n",
       "    .dataframe tbody tr th:only-of-type {\n",
       "        vertical-align: middle;\n",
       "    }\n",
       "\n",
       "    .dataframe tbody tr th {\n",
       "        vertical-align: top;\n",
       "    }\n",
       "\n",
       "    .dataframe thead th {\n",
       "        text-align: right;\n",
       "    }\n",
       "</style>\n",
       "<table border=\"1\" class=\"dataframe\">\n",
       "  <thead>\n",
       "    <tr style=\"text-align: right;\">\n",
       "      <th></th>\n",
       "      <th>url</th>\n",
       "      <th>address</th>\n",
       "      <th>name</th>\n",
       "      <th>online_order</th>\n",
       "      <th>book_table</th>\n",
       "      <th>rate</th>\n",
       "      <th>votes</th>\n",
       "      <th>phone</th>\n",
       "      <th>location</th>\n",
       "      <th>rest_type</th>\n",
       "      <th>dish_liked</th>\n",
       "      <th>cuisines</th>\n",
       "      <th>approx_cost(for two people)</th>\n",
       "      <th>reviews_list</th>\n",
       "      <th>menu_item</th>\n",
       "      <th>listed_in(type)</th>\n",
       "      <th>listed_in(city)</th>\n",
       "    </tr>\n",
       "  </thead>\n",
       "  <tbody>\n",
       "    <tr>\n",
       "      <th>0</th>\n",
       "      <td>https://www.zomato.com/bangalore/jalsa-banasha...</td>\n",
       "      <td>942, 21st Main Road, 2nd Stage, Banashankari, ...</td>\n",
       "      <td>Jalsa</td>\n",
       "      <td>Yes</td>\n",
       "      <td>Yes</td>\n",
       "      <td>4.1/5</td>\n",
       "      <td>775</td>\n",
       "      <td>080 42297555\\r\\n+91 9743772233</td>\n",
       "      <td>Banashankari</td>\n",
       "      <td>Casual Dining</td>\n",
       "      <td>Pasta, Lunch Buffet, Masala Papad, Paneer Laja...</td>\n",
       "      <td>North Indian, Mughlai, Chinese</td>\n",
       "      <td>800</td>\n",
       "      <td>[('Rated 4.0', 'RATED\\n  A beautiful place to ...</td>\n",
       "      <td>[]</td>\n",
       "      <td>Buffet</td>\n",
       "      <td>Banashankari</td>\n",
       "    </tr>\n",
       "    <tr>\n",
       "      <th>1</th>\n",
       "      <td>https://www.zomato.com/bangalore/spice-elephan...</td>\n",
       "      <td>2nd Floor, 80 Feet Road, Near Big Bazaar, 6th ...</td>\n",
       "      <td>Spice Elephant</td>\n",
       "      <td>Yes</td>\n",
       "      <td>No</td>\n",
       "      <td>4.1/5</td>\n",
       "      <td>787</td>\n",
       "      <td>080 41714161</td>\n",
       "      <td>Banashankari</td>\n",
       "      <td>Casual Dining</td>\n",
       "      <td>Momos, Lunch Buffet, Chocolate Nirvana, Thai G...</td>\n",
       "      <td>Chinese, North Indian, Thai</td>\n",
       "      <td>800</td>\n",
       "      <td>[('Rated 4.0', 'RATED\\n  Had been here for din...</td>\n",
       "      <td>[]</td>\n",
       "      <td>Buffet</td>\n",
       "      <td>Banashankari</td>\n",
       "    </tr>\n",
       "    <tr>\n",
       "      <th>2</th>\n",
       "      <td>https://www.zomato.com/SanchurroBangalore?cont...</td>\n",
       "      <td>1112, Next to KIMS Medical College, 17th Cross...</td>\n",
       "      <td>San Churro Cafe</td>\n",
       "      <td>Yes</td>\n",
       "      <td>No</td>\n",
       "      <td>3.8/5</td>\n",
       "      <td>918</td>\n",
       "      <td>+91 9663487993</td>\n",
       "      <td>Banashankari</td>\n",
       "      <td>Cafe, Casual Dining</td>\n",
       "      <td>Churros, Cannelloni, Minestrone Soup, Hot Choc...</td>\n",
       "      <td>Cafe, Mexican, Italian</td>\n",
       "      <td>800</td>\n",
       "      <td>[('Rated 3.0', \"RATED\\n  Ambience is not that ...</td>\n",
       "      <td>[]</td>\n",
       "      <td>Buffet</td>\n",
       "      <td>Banashankari</td>\n",
       "    </tr>\n",
       "    <tr>\n",
       "      <th>3</th>\n",
       "      <td>https://www.zomato.com/bangalore/addhuri-udupi...</td>\n",
       "      <td>1st Floor, Annakuteera, 3rd Stage, Banashankar...</td>\n",
       "      <td>Addhuri Udupi Bhojana</td>\n",
       "      <td>No</td>\n",
       "      <td>No</td>\n",
       "      <td>3.7/5</td>\n",
       "      <td>88</td>\n",
       "      <td>+91 9620009302</td>\n",
       "      <td>Banashankari</td>\n",
       "      <td>Quick Bites</td>\n",
       "      <td>Masala Dosa</td>\n",
       "      <td>South Indian, North Indian</td>\n",
       "      <td>300</td>\n",
       "      <td>[('Rated 4.0', \"RATED\\n  Great food and proper...</td>\n",
       "      <td>[]</td>\n",
       "      <td>Buffet</td>\n",
       "      <td>Banashankari</td>\n",
       "    </tr>\n",
       "    <tr>\n",
       "      <th>4</th>\n",
       "      <td>https://www.zomato.com/bangalore/grand-village...</td>\n",
       "      <td>10, 3rd Floor, Lakshmi Associates, Gandhi Baza...</td>\n",
       "      <td>Grand Village</td>\n",
       "      <td>No</td>\n",
       "      <td>No</td>\n",
       "      <td>3.8/5</td>\n",
       "      <td>166</td>\n",
       "      <td>+91 8026612447\\r\\n+91 9901210005</td>\n",
       "      <td>Basavanagudi</td>\n",
       "      <td>Casual Dining</td>\n",
       "      <td>Panipuri, Gol Gappe</td>\n",
       "      <td>North Indian, Rajasthani</td>\n",
       "      <td>600</td>\n",
       "      <td>[('Rated 4.0', 'RATED\\n  Very good restaurant ...</td>\n",
       "      <td>[]</td>\n",
       "      <td>Buffet</td>\n",
       "      <td>Banashankari</td>\n",
       "    </tr>\n",
       "  </tbody>\n",
       "</table>\n",
       "</div>"
      ],
      "text/plain": [
       "                                                 url  \\\n",
       "0  https://www.zomato.com/bangalore/jalsa-banasha...   \n",
       "1  https://www.zomato.com/bangalore/spice-elephan...   \n",
       "2  https://www.zomato.com/SanchurroBangalore?cont...   \n",
       "3  https://www.zomato.com/bangalore/addhuri-udupi...   \n",
       "4  https://www.zomato.com/bangalore/grand-village...   \n",
       "\n",
       "                                             address                   name  \\\n",
       "0  942, 21st Main Road, 2nd Stage, Banashankari, ...                  Jalsa   \n",
       "1  2nd Floor, 80 Feet Road, Near Big Bazaar, 6th ...         Spice Elephant   \n",
       "2  1112, Next to KIMS Medical College, 17th Cross...        San Churro Cafe   \n",
       "3  1st Floor, Annakuteera, 3rd Stage, Banashankar...  Addhuri Udupi Bhojana   \n",
       "4  10, 3rd Floor, Lakshmi Associates, Gandhi Baza...          Grand Village   \n",
       "\n",
       "  online_order book_table   rate  votes                             phone  \\\n",
       "0          Yes        Yes  4.1/5    775    080 42297555\\r\\n+91 9743772233   \n",
       "1          Yes         No  4.1/5    787                      080 41714161   \n",
       "2          Yes         No  3.8/5    918                    +91 9663487993   \n",
       "3           No         No  3.7/5     88                    +91 9620009302   \n",
       "4           No         No  3.8/5    166  +91 8026612447\\r\\n+91 9901210005   \n",
       "\n",
       "       location            rest_type  \\\n",
       "0  Banashankari        Casual Dining   \n",
       "1  Banashankari        Casual Dining   \n",
       "2  Banashankari  Cafe, Casual Dining   \n",
       "3  Banashankari          Quick Bites   \n",
       "4  Basavanagudi        Casual Dining   \n",
       "\n",
       "                                          dish_liked  \\\n",
       "0  Pasta, Lunch Buffet, Masala Papad, Paneer Laja...   \n",
       "1  Momos, Lunch Buffet, Chocolate Nirvana, Thai G...   \n",
       "2  Churros, Cannelloni, Minestrone Soup, Hot Choc...   \n",
       "3                                        Masala Dosa   \n",
       "4                                Panipuri, Gol Gappe   \n",
       "\n",
       "                         cuisines approx_cost(for two people)  \\\n",
       "0  North Indian, Mughlai, Chinese                         800   \n",
       "1     Chinese, North Indian, Thai                         800   \n",
       "2          Cafe, Mexican, Italian                         800   \n",
       "3      South Indian, North Indian                         300   \n",
       "4        North Indian, Rajasthani                         600   \n",
       "\n",
       "                                        reviews_list menu_item  \\\n",
       "0  [('Rated 4.0', 'RATED\\n  A beautiful place to ...        []   \n",
       "1  [('Rated 4.0', 'RATED\\n  Had been here for din...        []   \n",
       "2  [('Rated 3.0', \"RATED\\n  Ambience is not that ...        []   \n",
       "3  [('Rated 4.0', \"RATED\\n  Great food and proper...        []   \n",
       "4  [('Rated 4.0', 'RATED\\n  Very good restaurant ...        []   \n",
       "\n",
       "  listed_in(type) listed_in(city)  \n",
       "0          Buffet    Banashankari  \n",
       "1          Buffet    Banashankari  \n",
       "2          Buffet    Banashankari  \n",
       "3          Buffet    Banashankari  \n",
       "4          Buffet    Banashankari  "
      ]
     },
     "execution_count": 9,
     "metadata": {},
     "output_type": "execute_result"
    }
   ],
   "source": [
    "df.head()"
   ]
  },
  {
   "cell_type": "code",
   "execution_count": 10,
   "id": "5ed781cc",
   "metadata": {},
   "outputs": [],
   "source": [
    "df['location'] = df['location'] + ' , Bangalore , Karnataka , India'"
   ]
  },
  {
   "cell_type": "code",
   "execution_count": 11,
   "id": "952f926b",
   "metadata": {},
   "outputs": [
    {
     "data": {
      "text/plain": [
       "0             Banashankari , Bangalore , Karnataka , India\n",
       "1             Banashankari , Bangalore , Karnataka , India\n",
       "2             Banashankari , Bangalore , Karnataka , India\n",
       "3             Banashankari , Bangalore , Karnataka , India\n",
       "4             Basavanagudi , Bangalore , Karnataka , India\n",
       "                               ...                        \n",
       "51712           Whitefield , Bangalore , Karnataka , India\n",
       "51713           Whitefield , Bangalore , Karnataka , India\n",
       "51714           Whitefield , Bangalore , Karnataka , India\n",
       "51715    ITPL Main Road, Whitefield , Bangalore , Karna...\n",
       "51716    ITPL Main Road, Whitefield , Bangalore , Karna...\n",
       "Name: location, Length: 51696, dtype: object"
      ]
     },
     "execution_count": 11,
     "metadata": {},
     "output_type": "execute_result"
    }
   ],
   "source": [
    "df['location']"
   ]
  },
  {
   "cell_type": "code",
   "execution_count": 12,
   "id": "1298de9b",
   "metadata": {},
   "outputs": [
    {
     "data": {
      "text/plain": [
       "url                            object\n",
       "address                        object\n",
       "name                           object\n",
       "online_order                   object\n",
       "book_table                     object\n",
       "rate                           object\n",
       "votes                           int64\n",
       "phone                          object\n",
       "location                       object\n",
       "rest_type                      object\n",
       "dish_liked                     object\n",
       "cuisines                       object\n",
       "approx_cost(for two people)    object\n",
       "reviews_list                   object\n",
       "menu_item                      object\n",
       "listed_in(type)                object\n",
       "listed_in(city)                object\n",
       "dtype: object"
      ]
     },
     "execution_count": 12,
     "metadata": {},
     "output_type": "execute_result"
    }
   ],
   "source": [
    "df.dtypes"
   ]
  },
  {
   "cell_type": "code",
   "execution_count": 13,
   "id": "a8d18cc0",
   "metadata": {},
   "outputs": [
    {
     "data": {
      "text/plain": [
       "Index(['url', 'address', 'name', 'online_order', 'book_table', 'rate', 'votes',\n",
       "       'phone', 'location', 'rest_type', 'dish_liked', 'cuisines',\n",
       "       'approx_cost(for two people)', 'reviews_list', 'menu_item',\n",
       "       'listed_in(type)', 'listed_in(city)'],\n",
       "      dtype='object')"
      ]
     },
     "execution_count": 13,
     "metadata": {},
     "output_type": "execute_result"
    }
   ],
   "source": [
    "df.columns"
   ]
  },
  {
   "cell_type": "code",
   "execution_count": 14,
   "id": "088ee37b",
   "metadata": {},
   "outputs": [
    {
     "data": {
      "text/html": [
       "<div>\n",
       "<style scoped>\n",
       "    .dataframe tbody tr th:only-of-type {\n",
       "        vertical-align: middle;\n",
       "    }\n",
       "\n",
       "    .dataframe tbody tr th {\n",
       "        vertical-align: top;\n",
       "    }\n",
       "\n",
       "    .dataframe thead th {\n",
       "        text-align: right;\n",
       "    }\n",
       "</style>\n",
       "<table border=\"1\" class=\"dataframe\">\n",
       "  <thead>\n",
       "    <tr style=\"text-align: right;\">\n",
       "      <th></th>\n",
       "      <th>Name</th>\n",
       "    </tr>\n",
       "  </thead>\n",
       "  <tbody>\n",
       "    <tr>\n",
       "      <th>0</th>\n",
       "      <td>Banashankari , Bangalore , Karnataka , India</td>\n",
       "    </tr>\n",
       "    <tr>\n",
       "      <th>1</th>\n",
       "      <td>Basavanagudi , Bangalore , Karnataka , India</td>\n",
       "    </tr>\n",
       "    <tr>\n",
       "      <th>2</th>\n",
       "      <td>Mysore Road , Bangalore , Karnataka , India</td>\n",
       "    </tr>\n",
       "    <tr>\n",
       "      <th>3</th>\n",
       "      <td>Jayanagar , Bangalore , Karnataka , India</td>\n",
       "    </tr>\n",
       "    <tr>\n",
       "      <th>4</th>\n",
       "      <td>Kumaraswamy Layout , Bangalore , Karnataka , I...</td>\n",
       "    </tr>\n",
       "    <tr>\n",
       "      <th>...</th>\n",
       "      <td>...</td>\n",
       "    </tr>\n",
       "    <tr>\n",
       "      <th>88</th>\n",
       "      <td>West Bangalore , Bangalore , Karnataka , India</td>\n",
       "    </tr>\n",
       "    <tr>\n",
       "      <th>89</th>\n",
       "      <td>Magadi Road , Bangalore , Karnataka , India</td>\n",
       "    </tr>\n",
       "    <tr>\n",
       "      <th>90</th>\n",
       "      <td>Yelahanka , Bangalore , Karnataka , India</td>\n",
       "    </tr>\n",
       "    <tr>\n",
       "      <th>91</th>\n",
       "      <td>Sahakara Nagar , Bangalore , Karnataka , India</td>\n",
       "    </tr>\n",
       "    <tr>\n",
       "      <th>92</th>\n",
       "      <td>Peenya , Bangalore , Karnataka , India</td>\n",
       "    </tr>\n",
       "  </tbody>\n",
       "</table>\n",
       "<p>93 rows × 1 columns</p>\n",
       "</div>"
      ],
      "text/plain": [
       "                                                 Name\n",
       "0        Banashankari , Bangalore , Karnataka , India\n",
       "1        Basavanagudi , Bangalore , Karnataka , India\n",
       "2         Mysore Road , Bangalore , Karnataka , India\n",
       "3           Jayanagar , Bangalore , Karnataka , India\n",
       "4   Kumaraswamy Layout , Bangalore , Karnataka , I...\n",
       "..                                                ...\n",
       "88     West Bangalore , Bangalore , Karnataka , India\n",
       "89        Magadi Road , Bangalore , Karnataka , India\n",
       "90          Yelahanka , Bangalore , Karnataka , India\n",
       "91     Sahakara Nagar , Bangalore , Karnataka , India\n",
       "92             Peenya , Bangalore , Karnataka , India\n",
       "\n",
       "[93 rows x 1 columns]"
      ]
     },
     "execution_count": 14,
     "metadata": {},
     "output_type": "execute_result"
    }
   ],
   "source": [
    "rest_loc = pd.DataFrame()\n",
    "rest_loc['Name'] = df['location'].unique()\n",
    "rest_loc"
   ]
  },
  {
   "cell_type": "code",
   "execution_count": 15,
   "id": "09909ffc",
   "metadata": {},
   "outputs": [],
   "source": [
    "from geopy.geocoders import Nominatim"
   ]
  },
  {
   "cell_type": "code",
   "execution_count": 16,
   "id": "33aceb9f",
   "metadata": {},
   "outputs": [],
   "source": [
    "geolocator = Nominatim(user_agent=\"app\" , timeout=None)"
   ]
  },
  {
   "cell_type": "code",
   "execution_count": 17,
   "id": "38583078",
   "metadata": {},
   "outputs": [
    {
     "name": "stdout",
     "output_type": "stream",
     "text": [
      "[12.9393328, 12.9417261, 12.9603811, 12.9399039, 12.9067683, 12.9274413, 12.9660722, 12.9055682, 12.9096941, 12.864107149999999, 12.965717999999999, 12.95212575, 12.9527211, 12.9163603, 12.9390426, 12.9089453, 12.985098650000001, 12.848759900000001, 12.90056335, 12.9552572, 12.9240089, 12.9489339, 12.9575547, 12.9348429, 12.9408685, 12.9666654, 12.9364846, 13.0394104, 12.9327778, 12.93103185, 12.9696365, 12.9739905, 12.9604498, 12.9962979, 12.9277245, 12.9986827, 13.0227204, 12.9755264, 12.9721256, 12.9749487, 12.9755105, 12.9778793, 12.9737987, 12.986391, 12.9810146, 12.9757994, 12.9870649, 12.9813526, 12.9822324, 12.9934283, 13.0358698, 12.9624669, 12.9427087, 12.9678074, 12.9829593, 13.0027353, 12.9931876, 13.0093455, 12.9390255, 12.9783547, 12.957998, 12.97339325, 12.9578658, 12.96381425, 12.9876393, 12.9621761, 13.007516, 12.9243692, 12.9282918, 12.9385817, 12.9501192, 13.0005232, 13.0058357, 13.0181973, 13.0422794, 13.0258087, 13.0221416, 13.0236958, 13.0784743, nan, 12.973936, 12.9846713, 13.0382184, 12.9176571, 12.9860822, nan, 12.99118045, 13.02383, 13.0096524, 12.9756527, 13.107915, 13.0621474, 13.0329419]\n"
     ]
    }
   ],
   "source": [
    "lat = [] ## define lat list to store all the latitudes\n",
    "lon = [] ## define lon list to store all the longitudes\n",
    "\n",
    "\n",
    "for name in rest_loc['Name']:\n",
    "    location = geolocator.geocode(name)\n",
    "    \n",
    "    if location is None:\n",
    "        lat.append(np.nan)\n",
    "        lon.append(np.nan)\n",
    "        \n",
    "    else:\n",
    "        lat.append(location.latitude)\n",
    "        lon.append(location.longitude)\n",
    "print(lat)"
   ]
  },
  {
   "cell_type": "code",
   "execution_count": 18,
   "id": "0e1e9ba8",
   "metadata": {},
   "outputs": [
    {
     "data": {
      "text/html": [
       "<div>\n",
       "<style scoped>\n",
       "    .dataframe tbody tr th:only-of-type {\n",
       "        vertical-align: middle;\n",
       "    }\n",
       "\n",
       "    .dataframe tbody tr th {\n",
       "        vertical-align: top;\n",
       "    }\n",
       "\n",
       "    .dataframe thead th {\n",
       "        text-align: right;\n",
       "    }\n",
       "</style>\n",
       "<table border=\"1\" class=\"dataframe\">\n",
       "  <thead>\n",
       "    <tr style=\"text-align: right;\">\n",
       "      <th></th>\n",
       "      <th>Name</th>\n",
       "      <th>lat</th>\n",
       "      <th>lon</th>\n",
       "    </tr>\n",
       "  </thead>\n",
       "  <tbody>\n",
       "    <tr>\n",
       "      <th>0</th>\n",
       "      <td>Banashankari , Bangalore , Karnataka , India</td>\n",
       "      <td>12.939333</td>\n",
       "      <td>77.553982</td>\n",
       "    </tr>\n",
       "    <tr>\n",
       "      <th>1</th>\n",
       "      <td>Basavanagudi , Bangalore , Karnataka , India</td>\n",
       "      <td>12.941726</td>\n",
       "      <td>77.575502</td>\n",
       "    </tr>\n",
       "    <tr>\n",
       "      <th>2</th>\n",
       "      <td>Mysore Road , Bangalore , Karnataka , India</td>\n",
       "      <td>12.960381</td>\n",
       "      <td>77.557009</td>\n",
       "    </tr>\n",
       "    <tr>\n",
       "      <th>3</th>\n",
       "      <td>Jayanagar , Bangalore , Karnataka , India</td>\n",
       "      <td>12.939904</td>\n",
       "      <td>77.582638</td>\n",
       "    </tr>\n",
       "    <tr>\n",
       "      <th>4</th>\n",
       "      <td>Kumaraswamy Layout , Bangalore , Karnataka , I...</td>\n",
       "      <td>12.906768</td>\n",
       "      <td>77.559502</td>\n",
       "    </tr>\n",
       "    <tr>\n",
       "      <th>...</th>\n",
       "      <td>...</td>\n",
       "      <td>...</td>\n",
       "      <td>...</td>\n",
       "    </tr>\n",
       "    <tr>\n",
       "      <th>88</th>\n",
       "      <td>West Bangalore , Bangalore , Karnataka , India</td>\n",
       "      <td>13.009652</td>\n",
       "      <td>77.553054</td>\n",
       "    </tr>\n",
       "    <tr>\n",
       "      <th>89</th>\n",
       "      <td>Magadi Road , Bangalore , Karnataka , India</td>\n",
       "      <td>12.975653</td>\n",
       "      <td>77.555355</td>\n",
       "    </tr>\n",
       "    <tr>\n",
       "      <th>90</th>\n",
       "      <td>Yelahanka , Bangalore , Karnataka , India</td>\n",
       "      <td>13.107915</td>\n",
       "      <td>77.585524</td>\n",
       "    </tr>\n",
       "    <tr>\n",
       "      <th>91</th>\n",
       "      <td>Sahakara Nagar , Bangalore , Karnataka , India</td>\n",
       "      <td>13.062147</td>\n",
       "      <td>77.580061</td>\n",
       "    </tr>\n",
       "    <tr>\n",
       "      <th>92</th>\n",
       "      <td>Peenya , Bangalore , Karnataka , India</td>\n",
       "      <td>13.032942</td>\n",
       "      <td>77.527325</td>\n",
       "    </tr>\n",
       "  </tbody>\n",
       "</table>\n",
       "<p>93 rows × 3 columns</p>\n",
       "</div>"
      ],
      "text/plain": [
       "                                                 Name        lat        lon\n",
       "0        Banashankari , Bangalore , Karnataka , India  12.939333  77.553982\n",
       "1        Basavanagudi , Bangalore , Karnataka , India  12.941726  77.575502\n",
       "2         Mysore Road , Bangalore , Karnataka , India  12.960381  77.557009\n",
       "3           Jayanagar , Bangalore , Karnataka , India  12.939904  77.582638\n",
       "4   Kumaraswamy Layout , Bangalore , Karnataka , I...  12.906768  77.559502\n",
       "..                                                ...        ...        ...\n",
       "88     West Bangalore , Bangalore , Karnataka , India  13.009652  77.553054\n",
       "89        Magadi Road , Bangalore , Karnataka , India  12.975653  77.555355\n",
       "90          Yelahanka , Bangalore , Karnataka , India  13.107915  77.585524\n",
       "91     Sahakara Nagar , Bangalore , Karnataka , India  13.062147  77.580061\n",
       "92             Peenya , Bangalore , Karnataka , India  13.032942  77.527325\n",
       "\n",
       "[93 rows x 3 columns]"
      ]
     },
     "execution_count": 18,
     "metadata": {},
     "output_type": "execute_result"
    }
   ],
   "source": [
    "rest_loc['lat'] = lat\n",
    "rest_loc['lon'] = lon\n",
    "rest_loc"
   ]
  },
  {
   "cell_type": "code",
   "execution_count": 19,
   "id": "455f6f45",
   "metadata": {},
   "outputs": [
    {
     "data": {
      "text/plain": [
       "Name    0\n",
       "lat     2\n",
       "lon     2\n",
       "dtype: int64"
      ]
     },
     "execution_count": 19,
     "metadata": {},
     "output_type": "execute_result"
    }
   ],
   "source": [
    "rest_loc.isnull().sum()"
   ]
  },
  {
   "cell_type": "code",
   "execution_count": 20,
   "id": "706b30eb",
   "metadata": {},
   "outputs": [
    {
     "data": {
      "text/plain": [
       "0     False\n",
       "1     False\n",
       "2     False\n",
       "3     False\n",
       "4     False\n",
       "      ...  \n",
       "88    False\n",
       "89    False\n",
       "90    False\n",
       "91    False\n",
       "92    False\n",
       "Name: lat, Length: 93, dtype: bool"
      ]
     },
     "execution_count": 20,
     "metadata": {},
     "output_type": "execute_result"
    }
   ],
   "source": [
    "rest_loc['lat'].isnull()"
   ]
  },
  {
   "cell_type": "code",
   "execution_count": 21,
   "id": "46c9fc14",
   "metadata": {},
   "outputs": [
    {
     "data": {
      "text/html": [
       "<div>\n",
       "<style scoped>\n",
       "    .dataframe tbody tr th:only-of-type {\n",
       "        vertical-align: middle;\n",
       "    }\n",
       "\n",
       "    .dataframe tbody tr th {\n",
       "        vertical-align: top;\n",
       "    }\n",
       "\n",
       "    .dataframe thead th {\n",
       "        text-align: right;\n",
       "    }\n",
       "</style>\n",
       "<table border=\"1\" class=\"dataframe\">\n",
       "  <thead>\n",
       "    <tr style=\"text-align: right;\">\n",
       "      <th></th>\n",
       "      <th>Name</th>\n",
       "      <th>lat</th>\n",
       "      <th>lon</th>\n",
       "    </tr>\n",
       "  </thead>\n",
       "  <tbody>\n",
       "    <tr>\n",
       "      <th>79</th>\n",
       "      <td>Rammurthy Nagar , Bangalore , Karnataka , India</td>\n",
       "      <td>NaN</td>\n",
       "      <td>NaN</td>\n",
       "    </tr>\n",
       "    <tr>\n",
       "      <th>85</th>\n",
       "      <td>Sadashiv Nagar , Bangalore , Karnataka , India</td>\n",
       "      <td>NaN</td>\n",
       "      <td>NaN</td>\n",
       "    </tr>\n",
       "  </tbody>\n",
       "</table>\n",
       "</div>"
      ],
      "text/plain": [
       "                                               Name  lat  lon\n",
       "79  Rammurthy Nagar , Bangalore , Karnataka , India  NaN  NaN\n",
       "85   Sadashiv Nagar , Bangalore , Karnataka , India  NaN  NaN"
      ]
     },
     "execution_count": 21,
     "metadata": {},
     "output_type": "execute_result"
    }
   ],
   "source": [
    "rest_loc[rest_loc['lat'].isnull()]"
   ]
  },
  {
   "cell_type": "code",
   "execution_count": 22,
   "id": "1dae996d",
   "metadata": {},
   "outputs": [],
   "source": [
    "import warnings\n",
    "from warnings import filterwarnings\n",
    "filterwarnings('ignore')"
   ]
  },
  {
   "cell_type": "code",
   "execution_count": 23,
   "id": "cebc3e57",
   "metadata": {},
   "outputs": [],
   "source": [
    "### for Rammurthy Nagar , Bangalore\n",
    "### 13.0163° N, 77.6785° E"
   ]
  },
  {
   "cell_type": "code",
   "execution_count": 24,
   "id": "25b5c539",
   "metadata": {},
   "outputs": [],
   "source": [
    "rest_loc['lat'][79] = 13.0163\n",
    "rest_loc['lon'][79] = 77.6785"
   ]
  },
  {
   "cell_type": "code",
   "execution_count": 25,
   "id": "9d2373d2",
   "metadata": {},
   "outputs": [],
   "source": [
    "### for Sadashiv Nagar ,\n",
    "### 13.0068 (Lat) & 77.5813(Lon)"
   ]
  },
  {
   "cell_type": "code",
   "execution_count": 26,
   "id": "9fa32a09",
   "metadata": {},
   "outputs": [],
   "source": [
    "rest_loc['lat'][85] = 13.0068\n",
    "rest_loc['lon'][85] = 77.5813"
   ]
  },
  {
   "cell_type": "code",
   "execution_count": 27,
   "id": "6e07360e",
   "metadata": {},
   "outputs": [
    {
     "data": {
      "text/plain": [
       "Name    0\n",
       "lat     0\n",
       "lon     0\n",
       "dtype: int64"
      ]
     },
     "execution_count": 27,
     "metadata": {},
     "output_type": "execute_result"
    }
   ],
   "source": [
    "rest_loc.isnull().sum()"
   ]
  },
  {
   "cell_type": "code",
   "execution_count": 28,
   "id": "536805b5",
   "metadata": {},
   "outputs": [],
   "source": [
    "geolocator = Nominatim(user_agent=\"app\" , timeout=None )"
   ]
  },
  {
   "cell_type": "code",
   "execution_count": 29,
   "id": "d672e165",
   "metadata": {},
   "outputs": [
    {
     "data": {
      "text/plain": [
       "'942, 21st Main Road, 2nd Stage, Banashankari, Bangalore'"
      ]
     },
     "execution_count": 29,
     "metadata": {},
     "output_type": "execute_result"
    }
   ],
   "source": [
    "df['address'][0]"
   ]
  },
  {
   "cell_type": "code",
   "execution_count": 30,
   "id": "8a5fedeb",
   "metadata": {},
   "outputs": [],
   "source": [
    "loc = geolocator.geocode(df['address'][0])"
   ]
  },
  {
   "cell_type": "code",
   "execution_count": 31,
   "id": "0352509a",
   "metadata": {},
   "outputs": [
    {
     "data": {
      "text/plain": [
       "True"
      ]
     },
     "execution_count": 31,
     "metadata": {},
     "output_type": "execute_result"
    }
   ],
   "source": [
    "hasattr(loc , 'latitude')\n",
    "\n",
    "## hasattr(loc,'latitude')  Return whether the loc has an attribute of latitude or not..\n",
    "\n",
    "### it means address doesn't have any property as latitude , ie it is unable to find any geo-graphical for address feature.."
   ]
  },
  {
   "cell_type": "code",
   "execution_count": 32,
   "id": "078bc0da",
   "metadata": {},
   "outputs": [
    {
     "data": {
      "text/plain": [
       "'now how to find geo-graphical co-ordinates of address feature..For this u have to use structured query ...\\nFor a structured query, provide a dictionary whose keys\\n    are like: `street`, `city`, `county`, `state`, `country`, or\\n    `postalcode`'"
      ]
     },
     "execution_count": 32,
     "metadata": {},
     "output_type": "execute_result"
    }
   ],
   "source": [
    "'''now how to find geo-graphical co-ordinates of address feature..For this u have to use structured query ...\n",
    "For a structured query, provide a dictionary whose keys\n",
    "    are like: `street`, `city`, `county`, `state`, `country`, or\n",
    "    `postalcode`'''"
   ]
  },
  {
   "cell_type": "code",
   "execution_count": 33,
   "id": "6494b6d0",
   "metadata": {},
   "outputs": [],
   "source": [
    "address = {'street':'21st Main Road' , 'city':'Bangalore' , 'country':'India' , 'state':'Karnataka'}"
   ]
  },
  {
   "cell_type": "code",
   "execution_count": 34,
   "id": "6e0ce2e5",
   "metadata": {},
   "outputs": [],
   "source": [
    "address_geocode = geolocator.geocode(address)"
   ]
  },
  {
   "cell_type": "code",
   "execution_count": 35,
   "id": "26b4c112",
   "metadata": {},
   "outputs": [
    {
     "data": {
      "text/plain": [
       "True"
      ]
     },
     "execution_count": 35,
     "metadata": {},
     "output_type": "execute_result"
    }
   ],
   "source": [
    "hasattr(address_geocode , 'latitude')"
   ]
  },
  {
   "cell_type": "code",
   "execution_count": 36,
   "id": "24650213",
   "metadata": {},
   "outputs": [
    {
     "data": {
      "text/plain": [
       "True"
      ]
     },
     "execution_count": 36,
     "metadata": {},
     "output_type": "execute_result"
    }
   ],
   "source": [
    "hasattr(address_geocode , 'longitude')"
   ]
  },
  {
   "cell_type": "code",
   "execution_count": 37,
   "id": "bd8f9929",
   "metadata": {},
   "outputs": [
    {
     "data": {
      "text/plain": [
       "13.0041454"
      ]
     },
     "execution_count": 37,
     "metadata": {},
     "output_type": "execute_result"
    }
   ],
   "source": [
    "address_geocode.latitude"
   ]
  },
  {
   "cell_type": "code",
   "execution_count": 38,
   "id": "9b396349",
   "metadata": {},
   "outputs": [
    {
     "data": {
      "text/plain": [
       "77.5606614"
      ]
     },
     "execution_count": 38,
     "metadata": {},
     "output_type": "execute_result"
    }
   ],
   "source": [
    "address_geocode.longitude"
   ]
  },
  {
   "cell_type": "code",
   "execution_count": 39,
   "id": "58af8835",
   "metadata": {},
   "outputs": [],
   "source": [
    "### where are most number of restaurants located in Bengalore"
   ]
  },
  {
   "cell_type": "code",
   "execution_count": 40,
   "id": "b8d51fd2",
   "metadata": {},
   "outputs": [
    {
     "data": {
      "text/plain": [
       "BTM , Bangalore , Karnataka , India                      5124\n",
       "HSR , Bangalore , Karnataka , India                      2523\n",
       "Koramangala 5th Block , Bangalore , Karnataka , India    2504\n",
       "JP Nagar , Bangalore , Karnataka , India                 2235\n",
       "Whitefield , Bangalore , Karnataka , India               2144\n",
       "                                                         ... \n",
       "West Bangalore , Bangalore , Karnataka , India              6\n",
       "Yelahanka , Bangalore , Karnataka , India                   6\n",
       "Jakkur , Bangalore , Karnataka , India                      3\n",
       "Rajarajeshwari Nagar , Bangalore , Karnataka , India        2\n",
       "Peenya , Bangalore , Karnataka , India                      1\n",
       "Name: location, Length: 93, dtype: int64"
      ]
     },
     "execution_count": 40,
     "metadata": {},
     "output_type": "execute_result"
    }
   ],
   "source": [
    "df['location'].value_counts()"
   ]
  },
  {
   "cell_type": "code",
   "execution_count": 41,
   "id": "590e97d3",
   "metadata": {},
   "outputs": [
    {
     "data": {
      "text/plain": [
       "pandas.core.series.Series"
      ]
     },
     "execution_count": 41,
     "metadata": {},
     "output_type": "execute_result"
    }
   ],
   "source": [
    "type(df['location'].value_counts())"
   ]
  },
  {
   "cell_type": "code",
   "execution_count": 42,
   "id": "d07239ba",
   "metadata": {},
   "outputs": [],
   "source": [
    "Rest_locations = df['location'].value_counts().reset_index()"
   ]
  },
  {
   "cell_type": "code",
   "execution_count": 43,
   "id": "ca06253c",
   "metadata": {},
   "outputs": [],
   "source": [
    "Rest_locations.rename(columns={'index': 'Name'}, inplace=True)"
   ]
  },
  {
   "cell_type": "code",
   "execution_count": 44,
   "id": "5dcfe583",
   "metadata": {},
   "outputs": [],
   "source": [
    "### Now we can say that These are my locations where most of my restaurants are located.."
   ]
  },
  {
   "cell_type": "code",
   "execution_count": 45,
   "id": "ef1267d7",
   "metadata": {},
   "outputs": [
    {
     "data": {
      "text/plain": [
       "'\\nlets create Heatmap of this results so that it becomes more user-friendly..\\nnow In order to perform Spatial Anlysis(Geographical Analysis) , we need latitudes & longitudes of every location..\\n'"
      ]
     },
     "execution_count": 45,
     "metadata": {},
     "output_type": "execute_result"
    }
   ],
   "source": [
    "'''\n",
    "lets create Heatmap of this results so that it becomes more user-friendly..\n",
    "now In order to perform Spatial Anlysis(Geographical Analysis) , we need latitudes & longitudes of every location..\n",
    "'''"
   ]
  },
  {
   "cell_type": "code",
   "execution_count": 46,
   "id": "c9c5459d",
   "metadata": {},
   "outputs": [
    {
     "data": {
      "text/html": [
       "<div>\n",
       "<style scoped>\n",
       "    .dataframe tbody tr th:only-of-type {\n",
       "        vertical-align: middle;\n",
       "    }\n",
       "\n",
       "    .dataframe tbody tr th {\n",
       "        vertical-align: top;\n",
       "    }\n",
       "\n",
       "    .dataframe thead th {\n",
       "        text-align: right;\n",
       "    }\n",
       "</style>\n",
       "<table border=\"1\" class=\"dataframe\">\n",
       "  <thead>\n",
       "    <tr style=\"text-align: right;\">\n",
       "      <th></th>\n",
       "      <th>Name</th>\n",
       "      <th>lat</th>\n",
       "      <th>lon</th>\n",
       "    </tr>\n",
       "  </thead>\n",
       "  <tbody>\n",
       "    <tr>\n",
       "      <th>0</th>\n",
       "      <td>Banashankari , Bangalore , Karnataka , India</td>\n",
       "      <td>12.939333</td>\n",
       "      <td>77.553982</td>\n",
       "    </tr>\n",
       "    <tr>\n",
       "      <th>1</th>\n",
       "      <td>Basavanagudi , Bangalore , Karnataka , India</td>\n",
       "      <td>12.941726</td>\n",
       "      <td>77.575502</td>\n",
       "    </tr>\n",
       "    <tr>\n",
       "      <th>2</th>\n",
       "      <td>Mysore Road , Bangalore , Karnataka , India</td>\n",
       "      <td>12.960381</td>\n",
       "      <td>77.557009</td>\n",
       "    </tr>\n",
       "    <tr>\n",
       "      <th>3</th>\n",
       "      <td>Jayanagar , Bangalore , Karnataka , India</td>\n",
       "      <td>12.939904</td>\n",
       "      <td>77.582638</td>\n",
       "    </tr>\n",
       "    <tr>\n",
       "      <th>4</th>\n",
       "      <td>Kumaraswamy Layout , Bangalore , Karnataka , I...</td>\n",
       "      <td>12.906768</td>\n",
       "      <td>77.559502</td>\n",
       "    </tr>\n",
       "    <tr>\n",
       "      <th>...</th>\n",
       "      <td>...</td>\n",
       "      <td>...</td>\n",
       "      <td>...</td>\n",
       "    </tr>\n",
       "    <tr>\n",
       "      <th>88</th>\n",
       "      <td>West Bangalore , Bangalore , Karnataka , India</td>\n",
       "      <td>13.009652</td>\n",
       "      <td>77.553054</td>\n",
       "    </tr>\n",
       "    <tr>\n",
       "      <th>89</th>\n",
       "      <td>Magadi Road , Bangalore , Karnataka , India</td>\n",
       "      <td>12.975653</td>\n",
       "      <td>77.555355</td>\n",
       "    </tr>\n",
       "    <tr>\n",
       "      <th>90</th>\n",
       "      <td>Yelahanka , Bangalore , Karnataka , India</td>\n",
       "      <td>13.107915</td>\n",
       "      <td>77.585524</td>\n",
       "    </tr>\n",
       "    <tr>\n",
       "      <th>91</th>\n",
       "      <td>Sahakara Nagar , Bangalore , Karnataka , India</td>\n",
       "      <td>13.062147</td>\n",
       "      <td>77.580061</td>\n",
       "    </tr>\n",
       "    <tr>\n",
       "      <th>92</th>\n",
       "      <td>Peenya , Bangalore , Karnataka , India</td>\n",
       "      <td>13.032942</td>\n",
       "      <td>77.527325</td>\n",
       "    </tr>\n",
       "  </tbody>\n",
       "</table>\n",
       "<p>93 rows × 3 columns</p>\n",
       "</div>"
      ],
      "text/plain": [
       "                                                 Name        lat        lon\n",
       "0        Banashankari , Bangalore , Karnataka , India  12.939333  77.553982\n",
       "1        Basavanagudi , Bangalore , Karnataka , India  12.941726  77.575502\n",
       "2         Mysore Road , Bangalore , Karnataka , India  12.960381  77.557009\n",
       "3           Jayanagar , Bangalore , Karnataka , India  12.939904  77.582638\n",
       "4   Kumaraswamy Layout , Bangalore , Karnataka , I...  12.906768  77.559502\n",
       "..                                                ...        ...        ...\n",
       "88     West Bangalore , Bangalore , Karnataka , India  13.009652  77.553054\n",
       "89        Magadi Road , Bangalore , Karnataka , India  12.975653  77.555355\n",
       "90          Yelahanka , Bangalore , Karnataka , India  13.107915  77.585524\n",
       "91     Sahakara Nagar , Bangalore , Karnataka , India  13.062147  77.580061\n",
       "92             Peenya , Bangalore , Karnataka , India  13.032942  77.527325\n",
       "\n",
       "[93 rows x 3 columns]"
      ]
     },
     "execution_count": 46,
     "metadata": {},
     "output_type": "execute_result"
    }
   ],
   "source": [
    "rest_loc"
   ]
  },
  {
   "cell_type": "code",
   "execution_count": 47,
   "id": "740ba2ae",
   "metadata": {},
   "outputs": [],
   "source": [
    "Beng_rest_locations = Rest_locations.merge(rest_loc , on=\"Name\")"
   ]
  },
  {
   "cell_type": "code",
   "execution_count": 48,
   "id": "9d4aee17",
   "metadata": {},
   "outputs": [
    {
     "data": {
      "text/plain": [
       "pandas.core.frame.DataFrame"
      ]
     },
     "execution_count": 48,
     "metadata": {},
     "output_type": "execute_result"
    }
   ],
   "source": [
    "type(Beng_rest_locations)"
   ]
  },
  {
   "cell_type": "code",
   "execution_count": 51,
   "id": "9d217ed3",
   "metadata": {},
   "outputs": [
    {
     "data": {
      "text/html": [
       "<div>\n",
       "<style scoped>\n",
       "    .dataframe tbody tr th:only-of-type {\n",
       "        vertical-align: middle;\n",
       "    }\n",
       "\n",
       "    .dataframe tbody tr th {\n",
       "        vertical-align: top;\n",
       "    }\n",
       "\n",
       "    .dataframe thead th {\n",
       "        text-align: right;\n",
       "    }\n",
       "</style>\n",
       "<table border=\"1\" class=\"dataframe\">\n",
       "  <thead>\n",
       "    <tr style=\"text-align: right;\">\n",
       "      <th></th>\n",
       "      <th>Name</th>\n",
       "      <th>count</th>\n",
       "      <th>lat</th>\n",
       "      <th>lon</th>\n",
       "    </tr>\n",
       "  </thead>\n",
       "  <tbody>\n",
       "    <tr>\n",
       "      <th>0</th>\n",
       "      <td>BTM , Bangalore , Karnataka , India</td>\n",
       "      <td>5124</td>\n",
       "      <td>12.916360</td>\n",
       "      <td>77.604733</td>\n",
       "    </tr>\n",
       "    <tr>\n",
       "      <th>1</th>\n",
       "      <td>HSR , Bangalore , Karnataka , India</td>\n",
       "      <td>2523</td>\n",
       "      <td>12.900563</td>\n",
       "      <td>77.649475</td>\n",
       "    </tr>\n",
       "    <tr>\n",
       "      <th>2</th>\n",
       "      <td>Koramangala 5th Block , Bangalore , Karnataka ...</td>\n",
       "      <td>2504</td>\n",
       "      <td>12.934843</td>\n",
       "      <td>77.618977</td>\n",
       "    </tr>\n",
       "    <tr>\n",
       "      <th>3</th>\n",
       "      <td>JP Nagar , Bangalore , Karnataka , India</td>\n",
       "      <td>2235</td>\n",
       "      <td>12.909694</td>\n",
       "      <td>77.586607</td>\n",
       "    </tr>\n",
       "    <tr>\n",
       "      <th>4</th>\n",
       "      <td>Whitefield , Bangalore , Karnataka , India</td>\n",
       "      <td>2144</td>\n",
       "      <td>12.969637</td>\n",
       "      <td>77.749745</td>\n",
       "    </tr>\n",
       "  </tbody>\n",
       "</table>\n",
       "</div>"
      ],
      "text/plain": [
       "                                                Name  count        lat  \\\n",
       "0                BTM , Bangalore , Karnataka , India   5124  12.916360   \n",
       "1                HSR , Bangalore , Karnataka , India   2523  12.900563   \n",
       "2  Koramangala 5th Block , Bangalore , Karnataka ...   2504  12.934843   \n",
       "3           JP Nagar , Bangalore , Karnataka , India   2235  12.909694   \n",
       "4         Whitefield , Bangalore , Karnataka , India   2144  12.969637   \n",
       "\n",
       "         lon  \n",
       "0  77.604733  \n",
       "1  77.649475  \n",
       "2  77.618977  \n",
       "3  77.586607  \n",
       "4  77.749745  "
      ]
     },
     "execution_count": 51,
     "metadata": {},
     "output_type": "execute_result"
    }
   ],
   "source": [
    "Beng_rest_locations.head(5)"
   ]
  },
  {
   "cell_type": "code",
   "execution_count": 50,
   "id": "a77bca19",
   "metadata": {},
   "outputs": [],
   "source": [
    "Beng_rest_locations.rename(columns={'location': 'count'}, inplace=True)"
   ]
  },
  {
   "cell_type": "code",
   "execution_count": 52,
   "id": "26e9a002",
   "metadata": {},
   "outputs": [],
   "source": [
    "import folium"
   ]
  },
  {
   "cell_type": "code",
   "execution_count": 53,
   "id": "2b783314",
   "metadata": {},
   "outputs": [],
   "source": [
    "def Generate_basemap():\n",
    "    basemap = folium.Map(location=[12.97 , 77.59])\n",
    "    return basemap"
   ]
  },
  {
   "cell_type": "code",
   "execution_count": 54,
   "id": "686a2637",
   "metadata": {},
   "outputs": [],
   "source": [
    "basemap = Generate_basemap()"
   ]
  },
  {
   "cell_type": "code",
   "execution_count": 55,
   "id": "1aa166f5",
   "metadata": {},
   "outputs": [
    {
     "data": {
      "text/html": [
       "<div style=\"width:100%;\"><div style=\"position:relative;width:100%;height:0;padding-bottom:60%;\"><span style=\"color:#565656\">Make this Notebook Trusted to load map: File -> Trust Notebook</span><iframe srcdoc=\"&lt;!DOCTYPE html&gt;\n",
       "&lt;html&gt;\n",
       "&lt;head&gt;\n",
       "    \n",
       "    &lt;meta http-equiv=&quot;content-type&quot; content=&quot;text/html; charset=UTF-8&quot; /&gt;\n",
       "    \n",
       "        &lt;script&gt;\n",
       "            L_NO_TOUCH = false;\n",
       "            L_DISABLE_3D = false;\n",
       "        &lt;/script&gt;\n",
       "    \n",
       "    &lt;style&gt;html, body {width: 100%;height: 100%;margin: 0;padding: 0;}&lt;/style&gt;\n",
       "    &lt;style&gt;#map {position:absolute;top:0;bottom:0;right:0;left:0;}&lt;/style&gt;\n",
       "    &lt;script src=&quot;https://cdn.jsdelivr.net/npm/leaflet@1.9.3/dist/leaflet.js&quot;&gt;&lt;/script&gt;\n",
       "    &lt;script src=&quot;https://code.jquery.com/jquery-3.7.1.min.js&quot;&gt;&lt;/script&gt;\n",
       "    &lt;script src=&quot;https://cdn.jsdelivr.net/npm/bootstrap@5.2.2/dist/js/bootstrap.bundle.min.js&quot;&gt;&lt;/script&gt;\n",
       "    &lt;script src=&quot;https://cdnjs.cloudflare.com/ajax/libs/Leaflet.awesome-markers/2.0.2/leaflet.awesome-markers.js&quot;&gt;&lt;/script&gt;\n",
       "    &lt;link rel=&quot;stylesheet&quot; href=&quot;https://cdn.jsdelivr.net/npm/leaflet@1.9.3/dist/leaflet.css&quot;/&gt;\n",
       "    &lt;link rel=&quot;stylesheet&quot; href=&quot;https://cdn.jsdelivr.net/npm/bootstrap@5.2.2/dist/css/bootstrap.min.css&quot;/&gt;\n",
       "    &lt;link rel=&quot;stylesheet&quot; href=&quot;https://netdna.bootstrapcdn.com/bootstrap/3.0.0/css/bootstrap-glyphicons.css&quot;/&gt;\n",
       "    &lt;link rel=&quot;stylesheet&quot; href=&quot;https://cdn.jsdelivr.net/npm/@fortawesome/fontawesome-free@6.2.0/css/all.min.css&quot;/&gt;\n",
       "    &lt;link rel=&quot;stylesheet&quot; href=&quot;https://cdnjs.cloudflare.com/ajax/libs/Leaflet.awesome-markers/2.0.2/leaflet.awesome-markers.css&quot;/&gt;\n",
       "    &lt;link rel=&quot;stylesheet&quot; href=&quot;https://cdn.jsdelivr.net/gh/python-visualization/folium/folium/templates/leaflet.awesome.rotate.min.css&quot;/&gt;\n",
       "    \n",
       "            &lt;meta name=&quot;viewport&quot; content=&quot;width=device-width,\n",
       "                initial-scale=1.0, maximum-scale=1.0, user-scalable=no&quot; /&gt;\n",
       "            &lt;style&gt;\n",
       "                #map_0b55d4f18c2ef855c92cbcfaac480def {\n",
       "                    position: relative;\n",
       "                    width: 100.0%;\n",
       "                    height: 100.0%;\n",
       "                    left: 0.0%;\n",
       "                    top: 0.0%;\n",
       "                }\n",
       "                .leaflet-container { font-size: 1rem; }\n",
       "            &lt;/style&gt;\n",
       "        \n",
       "&lt;/head&gt;\n",
       "&lt;body&gt;\n",
       "    \n",
       "    \n",
       "            &lt;div class=&quot;folium-map&quot; id=&quot;map_0b55d4f18c2ef855c92cbcfaac480def&quot; &gt;&lt;/div&gt;\n",
       "        \n",
       "&lt;/body&gt;\n",
       "&lt;script&gt;\n",
       "    \n",
       "    \n",
       "            var map_0b55d4f18c2ef855c92cbcfaac480def = L.map(\n",
       "                &quot;map_0b55d4f18c2ef855c92cbcfaac480def&quot;,\n",
       "                {\n",
       "                    center: [12.97, 77.59],\n",
       "                    crs: L.CRS.EPSG3857,\n",
       "                    zoom: 10,\n",
       "                    zoomControl: true,\n",
       "                    preferCanvas: false,\n",
       "                }\n",
       "            );\n",
       "\n",
       "            \n",
       "\n",
       "        \n",
       "    \n",
       "            var tile_layer_8b11482812d54fbc3f9bcfe749b3f3fb = L.tileLayer(\n",
       "                &quot;https://tile.openstreetmap.org/{z}/{x}/{y}.png&quot;,\n",
       "                {&quot;attribution&quot;: &quot;\\u0026copy; \\u003ca href=\\&quot;https://www.openstreetmap.org/copyright\\&quot;\\u003eOpenStreetMap\\u003c/a\\u003e contributors&quot;, &quot;detectRetina&quot;: false, &quot;maxNativeZoom&quot;: 19, &quot;maxZoom&quot;: 19, &quot;minZoom&quot;: 0, &quot;noWrap&quot;: false, &quot;opacity&quot;: 1, &quot;subdomains&quot;: &quot;abc&quot;, &quot;tms&quot;: false}\n",
       "            );\n",
       "        \n",
       "    \n",
       "            tile_layer_8b11482812d54fbc3f9bcfe749b3f3fb.addTo(map_0b55d4f18c2ef855c92cbcfaac480def);\n",
       "        \n",
       "&lt;/script&gt;\n",
       "&lt;/html&gt;\" style=\"position:absolute;width:100%;height:100%;left:0;top:0;border:none !important;\" allowfullscreen webkitallowfullscreen mozallowfullscreen></iframe></div></div>"
      ],
      "text/plain": [
       "<folium.folium.Map at 0x7fc8281b0f40>"
      ]
     },
     "execution_count": 55,
     "metadata": {},
     "output_type": "execute_result"
    }
   ],
   "source": [
    "basemap"
   ]
  },
  {
   "cell_type": "code",
   "execution_count": 56,
   "id": "e9026bfc",
   "metadata": {},
   "outputs": [],
   "source": [
    "from folium.plugins import HeatMap"
   ]
  },
  {
   "cell_type": "code",
   "execution_count": 58,
   "id": "db33e3b8",
   "metadata": {},
   "outputs": [
    {
     "data": {
      "text/plain": [
       "Index(['Name', 'count', 'lat', 'lon'], dtype='object')"
      ]
     },
     "execution_count": 58,
     "metadata": {},
     "output_type": "execute_result"
    }
   ],
   "source": [
    "Beng_rest_locations.columns"
   ]
  },
  {
   "cell_type": "code",
   "execution_count": 59,
   "id": "caed4e46",
   "metadata": {},
   "outputs": [
    {
     "data": {
      "text/html": [
       "<div>\n",
       "<style scoped>\n",
       "    .dataframe tbody tr th:only-of-type {\n",
       "        vertical-align: middle;\n",
       "    }\n",
       "\n",
       "    .dataframe tbody tr th {\n",
       "        vertical-align: top;\n",
       "    }\n",
       "\n",
       "    .dataframe thead th {\n",
       "        text-align: right;\n",
       "    }\n",
       "</style>\n",
       "<table border=\"1\" class=\"dataframe\">\n",
       "  <thead>\n",
       "    <tr style=\"text-align: right;\">\n",
       "      <th></th>\n",
       "      <th>lat</th>\n",
       "      <th>lon</th>\n",
       "      <th>count</th>\n",
       "    </tr>\n",
       "  </thead>\n",
       "  <tbody>\n",
       "    <tr>\n",
       "      <th>0</th>\n",
       "      <td>12.916360</td>\n",
       "      <td>77.604733</td>\n",
       "      <td>5124</td>\n",
       "    </tr>\n",
       "    <tr>\n",
       "      <th>1</th>\n",
       "      <td>12.900563</td>\n",
       "      <td>77.649475</td>\n",
       "      <td>2523</td>\n",
       "    </tr>\n",
       "    <tr>\n",
       "      <th>2</th>\n",
       "      <td>12.934843</td>\n",
       "      <td>77.618977</td>\n",
       "      <td>2504</td>\n",
       "    </tr>\n",
       "    <tr>\n",
       "      <th>3</th>\n",
       "      <td>12.909694</td>\n",
       "      <td>77.586607</td>\n",
       "      <td>2235</td>\n",
       "    </tr>\n",
       "    <tr>\n",
       "      <th>4</th>\n",
       "      <td>12.969637</td>\n",
       "      <td>77.749745</td>\n",
       "      <td>2144</td>\n",
       "    </tr>\n",
       "    <tr>\n",
       "      <th>...</th>\n",
       "      <td>...</td>\n",
       "      <td>...</td>\n",
       "      <td>...</td>\n",
       "    </tr>\n",
       "    <tr>\n",
       "      <th>88</th>\n",
       "      <td>13.009652</td>\n",
       "      <td>77.553054</td>\n",
       "      <td>6</td>\n",
       "    </tr>\n",
       "    <tr>\n",
       "      <th>89</th>\n",
       "      <td>13.107915</td>\n",
       "      <td>77.585524</td>\n",
       "      <td>6</td>\n",
       "    </tr>\n",
       "    <tr>\n",
       "      <th>90</th>\n",
       "      <td>13.078474</td>\n",
       "      <td>77.606894</td>\n",
       "      <td>3</td>\n",
       "    </tr>\n",
       "    <tr>\n",
       "      <th>91</th>\n",
       "      <td>12.927441</td>\n",
       "      <td>77.515522</td>\n",
       "      <td>2</td>\n",
       "    </tr>\n",
       "    <tr>\n",
       "      <th>92</th>\n",
       "      <td>13.032942</td>\n",
       "      <td>77.527325</td>\n",
       "      <td>1</td>\n",
       "    </tr>\n",
       "  </tbody>\n",
       "</table>\n",
       "<p>93 rows × 3 columns</p>\n",
       "</div>"
      ],
      "text/plain": [
       "          lat        lon  count\n",
       "0   12.916360  77.604733   5124\n",
       "1   12.900563  77.649475   2523\n",
       "2   12.934843  77.618977   2504\n",
       "3   12.909694  77.586607   2235\n",
       "4   12.969637  77.749745   2144\n",
       "..        ...        ...    ...\n",
       "88  13.009652  77.553054      6\n",
       "89  13.107915  77.585524      6\n",
       "90  13.078474  77.606894      3\n",
       "91  12.927441  77.515522      2\n",
       "92  13.032942  77.527325      1\n",
       "\n",
       "[93 rows x 3 columns]"
      ]
     },
     "execution_count": 59,
     "metadata": {},
     "output_type": "execute_result"
    }
   ],
   "source": [
    "Beng_rest_locations[['lat', 'lon' , 'count']]"
   ]
  },
  {
   "cell_type": "code",
   "execution_count": 60,
   "id": "01327d24",
   "metadata": {},
   "outputs": [
    {
     "data": {
      "text/plain": [
       "<folium.plugins.heat_map.HeatMap at 0x7fc7eb89e910>"
      ]
     },
     "execution_count": 60,
     "metadata": {},
     "output_type": "execute_result"
    }
   ],
   "source": [
    "HeatMap(Beng_rest_locations[['lat', 'lon' , 'count']]).add_to(basemap)"
   ]
  },
  {
   "cell_type": "code",
   "execution_count": 62,
   "id": "9546e650",
   "metadata": {},
   "outputs": [
    {
     "data": {
      "text/html": [
       "<div style=\"width:100%;\"><div style=\"position:relative;width:100%;height:0;padding-bottom:60%;\"><span style=\"color:#565656\">Make this Notebook Trusted to load map: File -> Trust Notebook</span><iframe srcdoc=\"&lt;!DOCTYPE html&gt;\n",
       "&lt;html&gt;\n",
       "&lt;head&gt;\n",
       "    \n",
       "    &lt;meta http-equiv=&quot;content-type&quot; content=&quot;text/html; charset=UTF-8&quot; /&gt;\n",
       "    \n",
       "        &lt;script&gt;\n",
       "            L_NO_TOUCH = false;\n",
       "            L_DISABLE_3D = false;\n",
       "        &lt;/script&gt;\n",
       "    \n",
       "    &lt;style&gt;html, body {width: 100%;height: 100%;margin: 0;padding: 0;}&lt;/style&gt;\n",
       "    &lt;style&gt;#map {position:absolute;top:0;bottom:0;right:0;left:0;}&lt;/style&gt;\n",
       "    &lt;script src=&quot;https://cdn.jsdelivr.net/npm/leaflet@1.9.3/dist/leaflet.js&quot;&gt;&lt;/script&gt;\n",
       "    &lt;script src=&quot;https://code.jquery.com/jquery-3.7.1.min.js&quot;&gt;&lt;/script&gt;\n",
       "    &lt;script src=&quot;https://cdn.jsdelivr.net/npm/bootstrap@5.2.2/dist/js/bootstrap.bundle.min.js&quot;&gt;&lt;/script&gt;\n",
       "    &lt;script src=&quot;https://cdnjs.cloudflare.com/ajax/libs/Leaflet.awesome-markers/2.0.2/leaflet.awesome-markers.js&quot;&gt;&lt;/script&gt;\n",
       "    &lt;link rel=&quot;stylesheet&quot; href=&quot;https://cdn.jsdelivr.net/npm/leaflet@1.9.3/dist/leaflet.css&quot;/&gt;\n",
       "    &lt;link rel=&quot;stylesheet&quot; href=&quot;https://cdn.jsdelivr.net/npm/bootstrap@5.2.2/dist/css/bootstrap.min.css&quot;/&gt;\n",
       "    &lt;link rel=&quot;stylesheet&quot; href=&quot;https://netdna.bootstrapcdn.com/bootstrap/3.0.0/css/bootstrap-glyphicons.css&quot;/&gt;\n",
       "    &lt;link rel=&quot;stylesheet&quot; href=&quot;https://cdn.jsdelivr.net/npm/@fortawesome/fontawesome-free@6.2.0/css/all.min.css&quot;/&gt;\n",
       "    &lt;link rel=&quot;stylesheet&quot; href=&quot;https://cdnjs.cloudflare.com/ajax/libs/Leaflet.awesome-markers/2.0.2/leaflet.awesome-markers.css&quot;/&gt;\n",
       "    &lt;link rel=&quot;stylesheet&quot; href=&quot;https://cdn.jsdelivr.net/gh/python-visualization/folium/folium/templates/leaflet.awesome.rotate.min.css&quot;/&gt;\n",
       "    \n",
       "            &lt;meta name=&quot;viewport&quot; content=&quot;width=device-width,\n",
       "                initial-scale=1.0, maximum-scale=1.0, user-scalable=no&quot; /&gt;\n",
       "            &lt;style&gt;\n",
       "                #map_0b55d4f18c2ef855c92cbcfaac480def {\n",
       "                    position: relative;\n",
       "                    width: 100.0%;\n",
       "                    height: 100.0%;\n",
       "                    left: 0.0%;\n",
       "                    top: 0.0%;\n",
       "                }\n",
       "                .leaflet-container { font-size: 1rem; }\n",
       "            &lt;/style&gt;\n",
       "        \n",
       "    &lt;script src=&quot;https://cdn.jsdelivr.net/gh/python-visualization/folium@main/folium/templates/leaflet_heat.min.js&quot;&gt;&lt;/script&gt;\n",
       "&lt;/head&gt;\n",
       "&lt;body&gt;\n",
       "    \n",
       "    \n",
       "            &lt;div class=&quot;folium-map&quot; id=&quot;map_0b55d4f18c2ef855c92cbcfaac480def&quot; &gt;&lt;/div&gt;\n",
       "        \n",
       "&lt;/body&gt;\n",
       "&lt;script&gt;\n",
       "    \n",
       "    \n",
       "            var map_0b55d4f18c2ef855c92cbcfaac480def = L.map(\n",
       "                &quot;map_0b55d4f18c2ef855c92cbcfaac480def&quot;,\n",
       "                {\n",
       "                    center: [12.97, 77.59],\n",
       "                    crs: L.CRS.EPSG3857,\n",
       "                    zoom: 10,\n",
       "                    zoomControl: true,\n",
       "                    preferCanvas: false,\n",
       "                }\n",
       "            );\n",
       "\n",
       "            \n",
       "\n",
       "        \n",
       "    \n",
       "            var tile_layer_8b11482812d54fbc3f9bcfe749b3f3fb = L.tileLayer(\n",
       "                &quot;https://tile.openstreetmap.org/{z}/{x}/{y}.png&quot;,\n",
       "                {&quot;attribution&quot;: &quot;\\u0026copy; \\u003ca href=\\&quot;https://www.openstreetmap.org/copyright\\&quot;\\u003eOpenStreetMap\\u003c/a\\u003e contributors&quot;, &quot;detectRetina&quot;: false, &quot;maxNativeZoom&quot;: 19, &quot;maxZoom&quot;: 19, &quot;minZoom&quot;: 0, &quot;noWrap&quot;: false, &quot;opacity&quot;: 1, &quot;subdomains&quot;: &quot;abc&quot;, &quot;tms&quot;: false}\n",
       "            );\n",
       "        \n",
       "    \n",
       "            tile_layer_8b11482812d54fbc3f9bcfe749b3f3fb.addTo(map_0b55d4f18c2ef855c92cbcfaac480def);\n",
       "        \n",
       "    \n",
       "            tile_layer_8b11482812d54fbc3f9bcfe749b3f3fb.addTo(map_0b55d4f18c2ef855c92cbcfaac480def);\n",
       "        \n",
       "    \n",
       "            var heat_map_69caa79aee29b463c0db26e2929dddbe = L.heatLayer(\n",
       "                [[12.9163603, 77.604733, 5124.0], [12.90056335, 77.64947470503677, 2523.0], [12.9348429, 77.6189768, 2504.0], [12.9096941, 77.5866067, 2235.0], [12.9696365, 77.7497448, 2144.0], [12.9962979, 77.5452778, 2083.0], [12.9399039, 77.5826382, 1926.0], [12.9552572, 77.6984163, 1846.0], [12.9527211, 77.6051609, 1630.0], [12.93103185, 77.6782471, 1286.0], [12.848759900000001, 77.64825295827616, 1258.0], [12.9277245, 77.6327822, 1238.0], [12.9721256, 77.6070148, 1218.0], [12.9364846, 77.6134783, 1181.0], [12.9390255, 77.6238477, 1156.0], [12.9240089, 77.6531102, 1065.0], [12.9778793, 77.6246697, 1023.0], [12.9327778, 77.6294052, 1017.0], [12.9755264, 77.6067902, 918.0], [12.9393328, 77.5539819, 906.0], [13.0221416, 77.6403368, 853.0], [12.9666654, 77.6087634, 812.0], [12.9986827, 77.615525, 727.0], [13.0027353, 77.5703253, 725.0], [12.9417261, 77.5755021, 684.0], [12.9737987, 77.6108848, 675.0], [13.0058357, 77.6281321, 664.0], [12.96381425, 77.72243691580387, 658.0], [13.0236958, 77.5720977, 649.0], [13.0093455, 77.6377094, 648.0], [13.0005232, 77.5496166, 591.0], [12.9755105, 77.6026774, 569.0], [12.9749487, 77.5997248, 529.0], [12.9575547, 77.5979099, 511.0], [12.986391, 77.6075416, 499.0], [12.9624669, 77.6381958, 496.0], [12.9870649, 77.5949483, 491.0], [12.9604498, 77.642725, 446.0], [12.9427087, 77.6307137, 439.0], [12.9822324, 77.6082947, 370.0], [12.9757994, 77.6016921, 352.0], [12.9408685, 77.617338, 320.0], [12.9934283, 77.5902145, 295.0], [12.9678074, 77.6568367, 272.0], [12.9489339, 77.5968273, 246.0], [12.9089453, 77.6239038, 238.0], [12.9282918, 77.6254034, 216.0], [12.9067683, 77.5595021, 195.0], [12.973936, 77.6509982, 194.0], [12.99118045, 77.54489175084052, 191.0], [13.0422794, 77.6248577, 187.0], [12.9931876, 77.5753419, 165.0], [13.0258087, 77.6305067, 161.0], [12.9783547, 77.5728609, 155.0], [13.0358698, 77.6323597, 153.0], [12.9810146, 77.6021358, 151.0], [12.9813526, 77.5751844, 139.0], [12.965717999999999, 77.5762705372058, 126.0], [13.02383, 77.5529215, 119.0], [12.9621761, 77.77136741208628, 117.0], [12.9876393, 77.7377718, 113.0], [12.864107149999999, 77.55441638924378, 107.0], [12.9243692, 77.6242433, 102.0], [12.9501192, 77.6057426, 102.0], [12.9846713, 77.6790908, 101.0], [12.985098650000001, 77.66311735, 90.0], [12.9660722, 77.6125940647638, 80.0], [13.0227204, 77.595715, 80.0], [12.9578658, 77.6958748, 76.0], [13.0068, 77.5813, 63.0], [13.0621474, 77.58006135480495, 53.0], [12.9385817, 77.6340192, 48.0], [12.9739905, 77.61449005854067, 44.0], [13.0394104, 77.5197351, 38.0], [12.9756527, 77.5553548, 34.0], [13.0163, 77.6785, 32.0], [12.957998, 77.6037312, 27.0], [12.9860822, 77.5894728, 27.0], [12.9829593, 77.6374258, 22.0], [12.9603811, 77.5570091, 22.0], [12.9390426, 77.575291, 19.0], [13.007516, 77.695935, 18.0], [12.9055682, 77.5455438, 17.0], [13.0382184, 77.5919, 14.0], [13.0181973, 77.5581675, 14.0], [12.9176571, 77.4837568, 9.0], [12.95212575, 77.5113129189094, 9.0], [12.97339325, 77.61124684880099, 8.0], [13.0096524, 77.5530535343493, 6.0], [13.107915, 77.58552385971772, 6.0], [13.0784743, 77.6068938, 3.0], [12.9274413, 77.5155224, 2.0], [13.0329419, 77.5273253, 1.0]],\n",
       "                {&quot;blur&quot;: 15, &quot;maxZoom&quot;: 18, &quot;minOpacity&quot;: 0.5, &quot;radius&quot;: 25}\n",
       "            );\n",
       "        \n",
       "    \n",
       "            heat_map_69caa79aee29b463c0db26e2929dddbe.addTo(map_0b55d4f18c2ef855c92cbcfaac480def);\n",
       "        \n",
       "    \n",
       "            tile_layer_8b11482812d54fbc3f9bcfe749b3f3fb.addTo(map_0b55d4f18c2ef855c92cbcfaac480def);\n",
       "        \n",
       "    \n",
       "            heat_map_69caa79aee29b463c0db26e2929dddbe.addTo(map_0b55d4f18c2ef855c92cbcfaac480def);\n",
       "        \n",
       "&lt;/script&gt;\n",
       "&lt;/html&gt;\" style=\"position:absolute;width:100%;height:100%;left:0;top:0;border:none !important;\" allowfullscreen webkitallowfullscreen mozallowfullscreen></iframe></div></div>"
      ],
      "text/plain": [
       "<folium.folium.Map at 0x7fc8281b0f40>"
      ]
     },
     "execution_count": 62,
     "metadata": {},
     "output_type": "execute_result"
    }
   ],
   "source": [
    "basemap"
   ]
  }
 ],
 "metadata": {
  "kernelspec": {
   "display_name": "Python 3 (ipykernel)",
   "language": "python",
   "name": "python3"
  },
  "language_info": {
   "codemirror_mode": {
    "name": "ipython",
    "version": 3
   },
   "file_extension": ".py",
   "mimetype": "text/x-python",
   "name": "python",
   "nbconvert_exporter": "python",
   "pygments_lexer": "ipython3",
   "version": "3.9.19"
  }
 },
 "nbformat": 4,
 "nbformat_minor": 5
}
