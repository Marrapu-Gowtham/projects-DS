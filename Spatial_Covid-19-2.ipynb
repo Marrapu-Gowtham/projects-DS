{
 "cells": [
  {
   "cell_type": "code",
   "execution_count": null,
   "id": "e407e015",
   "metadata": {},
   "outputs": [],
   "source": [
    "import pandas as pd\n",
    "import numpy as np\n",
    "import matplotlib.pyplot as plt"
   ]
  },
  {
   "cell_type": "code",
   "execution_count": null,
   "id": "e410f4c1",
   "metadata": {},
   "outputs": [],
   "source": [
    "import plotly.express as px"
   ]
  },
  {
   "cell_type": "code",
   "execution_count": null,
   "id": "08edab69",
   "metadata": {},
   "outputs": [],
   "source": [
    "import plotly\n",
    "import plotly.graph_objs as go\n",
    "from plotly import tools\n",
    "from plotly.offline import init_notebook_mode, plot, iplot"
   ]
  },
  {
   "cell_type": "code",
   "execution_count": null,
   "id": "71a9f6c1",
   "metadata": {},
   "outputs": [],
   "source": [
    "current_data = pd.read_csv('https://raw.githubusercontent.com/datasets/covid-19/master/data/countries-aggregated.csv')\n",
    "current_data.head()"
   ]
  },
  {
   "cell_type": "code",
   "execution_count": null,
   "id": "9ae6c2f9",
   "metadata": {},
   "outputs": [],
   "source": [
    "type(current_data)"
   ]
  },
  {
   "cell_type": "code",
   "execution_count": null,
   "id": "fcb2b52c",
   "metadata": {},
   "outputs": [],
   "source": [
    "## plotting of confirmed cases"
   ]
  },
  {
   "cell_type": "code",
   "execution_count": null,
   "id": "222d426a",
   "metadata": {},
   "outputs": [],
   "source": [
    "# Choropleth Map of the World\n",
    "fig = px.choropleth(current_data,locations='Country',locationmode='country names',color='Confirmed',animation_frame='Date')\n",
    "fig.update_layout(title='Choropleth Map of Confirmed Cases -till today',template=\"plotly_dark\")\n",
    "fig.show()\n"
   ]
  },
  {
   "cell_type": "code",
   "execution_count": null,
   "id": "42cb99ca",
   "metadata": {},
   "outputs": [],
   "source": [
    "fig = px.choropleth(current_data,locations='Country',locationmode='country names',color='Confirmed',animation_frame='Date',scope='europe')\n",
    "fig.update_layout(title='Choropleth Map of Confirmed Cases - Europe till today',template=\"plotly_dark\")\n",
    "fig.show()"
   ]
  },
  {
   "cell_type": "code",
   "execution_count": null,
   "id": "1210da8a",
   "metadata": {},
   "outputs": [],
   "source": [
    "fig = px.choropleth(current_data,locations='Country',locationmode='country names',color='Confirmed',animation_frame='Date',scope='asia')\n",
    "fig.update_layout(title='Choropleth Map of Confirmed Cases - Asia on 28-09-2020',template=\"plotly_dark\")\n",
    "fig.show()"
   ]
  },
  {
   "cell_type": "code",
   "execution_count": null,
   "id": "a4bafdf5",
   "metadata": {},
   "outputs": [],
   "source": [
    "##### Spread over Time"
   ]
  },
  {
   "cell_type": "code",
   "execution_count": null,
   "id": "3dacb267",
   "metadata": {},
   "outputs": [],
   "source": [
    "fig = px.scatter_geo(current_data,locations='Country',locationmode='country names',color='Confirmed',size='Confirmed',hover_name=\"Country\",animation_frame='Date',title='Spread over Time')\n",
    "fig.update(layout_coloraxis_showscale=False,layout_template=\"plotly_dark\")\n",
    "fig.show()"
   ]
  },
  {
   "cell_type": "code",
   "execution_count": null,
   "id": "43597ec5",
   "metadata": {},
   "outputs": [],
   "source": [
    "#### The spread is very fast. It started in China and spread to the complete world"
   ]
  },
  {
   "cell_type": "code",
   "execution_count": null,
   "id": "7e58fa6c",
   "metadata": {},
   "outputs": [],
   "source": [
    "#### plotting of Recovered cases"
   ]
  },
  {
   "cell_type": "code",
   "execution_count": null,
   "id": "0777d184",
   "metadata": {},
   "outputs": [],
   "source": [
    "fig = px.choropleth(current_data,locations='Country',locationmode='country names',color='Recovered',animation_frame='Date')\n",
    "fig.update_layout(title='Choropleth Map of Recovered Cases -till today',template=\"plotly_dark\")\n",
    "fig.show()\n"
   ]
  },
  {
   "cell_type": "code",
   "execution_count": null,
   "id": "af344713",
   "metadata": {},
   "outputs": [],
   "source": [
    "fig = px.scatter_geo(current_data,locations='Country',locationmode='country names',color='Recovered',size='Recovered',hover_name=\"Country\",animation_frame='Date',title='Recovery over Time')\n",
    "fig.update(layout_coloraxis_showscale=False,layout_template=\"plotly_dark\")\n",
    "fig.show()"
   ]
  },
  {
   "cell_type": "code",
   "execution_count": null,
   "id": "9ae25308",
   "metadata": {},
   "outputs": [],
   "source": [
    "#### From above interactive map we can say that recovery is very slow as compared to the spread."
   ]
  },
  {
   "cell_type": "code",
   "execution_count": null,
   "id": "15d0f4a1",
   "metadata": {},
   "outputs": [],
   "source": [
    "##### plotting of Deaths"
   ]
  },
  {
   "cell_type": "code",
   "execution_count": null,
   "id": "49e0ac8d",
   "metadata": {},
   "outputs": [],
   "source": [
    "fig = px.choropleth(current_data,locations='Country',locationmode='country names',color='Deaths',animation_frame='Date')\n",
    "fig.update_layout(title='Choropleth Map of Deaths -till today',template=\"plotly_dark\")\n",
    "fig.show()"
   ]
  },
  {
   "cell_type": "code",
   "execution_count": null,
   "id": "3958e69c",
   "metadata": {},
   "outputs": [],
   "source": [
    "worldometer = pd.read_csv(r'/Users/gowthammarrapu/Documents/untitled folder 2/Covid-19/worldometer_data.csv')\n",
    "worldometer.head()"
   ]
  },
  {
   "cell_type": "code",
   "execution_count": null,
   "id": "88b2a81c",
   "metadata": {},
   "outputs": [],
   "source": [
    "#### highlighting maximum values"
   ]
  },
  {
   "cell_type": "code",
   "execution_count": null,
   "id": "3ecf61e3",
   "metadata": {},
   "outputs": [],
   "source": [
    "worldometer.style.background_gradient(cmap='RdPu')"
   ]
  },
  {
   "cell_type": "code",
   "execution_count": null,
   "id": "0d4eb9b7",
   "metadata": {},
   "outputs": [],
   "source": [
    "#### function For Comparison that will compare different stuffs"
   ]
  },
  {
   "cell_type": "code",
   "execution_count": null,
   "id": "d1ffee78",
   "metadata": {},
   "outputs": [],
   "source": [
    "def plot(df,x,y,xaxis_label,yaxis_label,title):\n",
    "    fig = px.bar(worldometer.head(10), y=y,x=x,color='WHO Region')\n",
    "    fig.update_layout(title=title,xaxis_title=xaxis_label,yaxis_title=yaxis_label)\n",
    "    fig.show()"
   ]
  },
  {
   "cell_type": "code",
   "execution_count": null,
   "id": "36f9802a",
   "metadata": {},
   "outputs": [],
   "source": [
    "##### Comparison of Tests/Million of 10 Most Affected Countries"
   ]
  },
  {
   "cell_type": "code",
   "execution_count": null,
   "id": "f474008d",
   "metadata": {},
   "outputs": [],
   "source": [
    "plot(worldometer.head(10),'Country/Region','Tests/1M pop','Country','Tests/M pop','Comparison of Tests/Million of 10 Most Affected Countries')"
   ]
  },
  {
   "cell_type": "code",
   "execution_count": null,
   "id": "b6b256d1",
   "metadata": {},
   "outputs": [],
   "source": [
    "#### extract latitudes & longtidues of locations"
   ]
  },
  {
   "cell_type": "code",
   "execution_count": null,
   "id": "58aa2424",
   "metadata": {},
   "outputs": [],
   "source": [
    "import geopy\n",
    "from geopy.geocoders import Nominatim"
   ]
  },
  {
   "cell_type": "code",
   "execution_count": null,
   "id": "6a2f8924",
   "metadata": {},
   "outputs": [],
   "source": [
    "geolocator=Nominatim(user_agent=\"app\")"
   ]
  },
  {
   "cell_type": "code",
   "execution_count": null,
   "id": "59dea9ca",
   "metadata": {},
   "outputs": [],
   "source": [
    "location = geolocator.geocode(\"USA\")\n",
    "print(location.latitude)"
   ]
  },
  {
   "cell_type": "code",
   "execution_count": null,
   "id": "ccde24fa",
   "metadata": {},
   "outputs": [],
   "source": [
    "location.longitude"
   ]
  },
  {
   "cell_type": "code",
   "execution_count": null,
   "id": "9d74b075",
   "metadata": {},
   "outputs": [],
   "source": [
    "current_data.head()"
   ]
  },
  {
   "cell_type": "code",
   "execution_count": null,
   "id": "9b0c88b6",
   "metadata": {},
   "outputs": [],
   "source": [
    "df=current_data.copy()"
   ]
  },
  {
   "cell_type": "code",
   "execution_count": null,
   "id": "e8991f07",
   "metadata": {},
   "outputs": [],
   "source": [
    "df.head()"
   ]
  },
  {
   "cell_type": "code",
   "execution_count": null,
   "id": "dca719d1",
   "metadata": {},
   "outputs": [],
   "source": [
    "df.shape"
   ]
  },
  {
   "cell_type": "code",
   "execution_count": null,
   "id": "5794364c",
   "metadata": {},
   "outputs": [],
   "source": [
    "df[df['Country']=='Afghanistan']"
   ]
  },
  {
   "cell_type": "code",
   "execution_count": null,
   "id": "729e22bc",
   "metadata": {},
   "outputs": [],
   "source": [
    "df2=df.groupby(['Country'])[['Confirmed','Recovered','Deaths']].max().reset_index()"
   ]
  },
  {
   "cell_type": "code",
   "execution_count": null,
   "id": "2dbc5c42",
   "metadata": {},
   "outputs": [],
   "source": [
    "df2.head()"
   ]
  },
  {
   "cell_type": "code",
   "execution_count": null,
   "id": "55fd5126",
   "metadata": {},
   "outputs": [],
   "source": [
    "df2[df2['Country']=='India']"
   ]
  },
  {
   "cell_type": "code",
   "execution_count": null,
   "id": "fc55bdd0",
   "metadata": {},
   "outputs": [],
   "source": [
    "lat_lon=[]\n",
    "geolocator=Nominatim(user_agent=\"app\")\n",
    "for location in df2['Country']:\n",
    "    location = geolocator.geocode(location)\n",
    "    if location is None:\n",
    "        lat_lon.append(np.nan)\n",
    "    else:    \n",
    "        geo=(location.latitude,location.longitude)\n",
    "        lat_lon.append(geo)"
   ]
  },
  {
   "cell_type": "code",
   "execution_count": null,
   "id": "3508f6ed",
   "metadata": {},
   "outputs": [],
   "source": [
    "lat_lon"
   ]
  },
  {
   "cell_type": "code",
   "execution_count": null,
   "id": "ee5ef56e",
   "metadata": {},
   "outputs": [],
   "source": [
    "df2['geo_loc']=lat_lon"
   ]
  },
  {
   "cell_type": "code",
   "execution_count": null,
   "id": "83dddcbc",
   "metadata": {},
   "outputs": [],
   "source": [
    "#### unzip it\n",
    "lat,lon=zip(*np.array(df2['geo_loc']))"
   ]
  },
  {
   "cell_type": "code",
   "execution_count": null,
   "id": "f16d5a16",
   "metadata": {},
   "outputs": [],
   "source": [
    "df2['lat']=lat\n",
    "df2['lon']=lon"
   ]
  },
  {
   "cell_type": "code",
   "execution_count": null,
   "id": "74d15f75",
   "metadata": {},
   "outputs": [],
   "source": [
    "df2.head()"
   ]
  },
  {
   "cell_type": "code",
   "execution_count": null,
   "id": "b98b7e5c",
   "metadata": {},
   "outputs": [],
   "source": [
    "df2.drop(['geo_loc'],axis=1,inplace=True)"
   ]
  },
  {
   "cell_type": "code",
   "execution_count": null,
   "id": "3586cf4e",
   "metadata": {},
   "outputs": [],
   "source": [
    "df2.head()"
   ]
  },
  {
   "cell_type": "code",
   "execution_count": null,
   "id": "72061458",
   "metadata": {},
   "outputs": [],
   "source": [
    "df2.to_csv('F:/Spatial Analysis/Spatial_data.csv')"
   ]
  },
  {
   "cell_type": "code",
   "execution_count": null,
   "id": "92665339",
   "metadata": {},
   "outputs": [],
   "source": [
    "## places which cases are Confirmed recently through the world in the past day alone¶"
   ]
  },
  {
   "cell_type": "code",
   "execution_count": null,
   "id": "06bb8b4d",
   "metadata": {},
   "outputs": [],
   "source": [
    "import folium"
   ]
  },
  {
   "cell_type": "code",
   "execution_count": null,
   "id": "9c5dbac2",
   "metadata": {},
   "outputs": [],
   "source": [
    "folium.Map(tiles='openstreetmap', zoom_start=2)"
   ]
  },
  {
   "cell_type": "code",
   "execution_count": null,
   "id": "4448dd6b",
   "metadata": {},
   "outputs": [],
   "source": [
    "m = folium.Map(location=[54, 15], tiles='openstreetmap', zoom_start=2)\n",
    "\n",
    "for id,row in df2.iterrows():\n",
    "    folium.Marker(location=[row['lat'],row['lon']], popup=row['Confirmed']).add_to(m)\n",
    "\n",
    "m"
   ]
  },
  {
   "cell_type": "code",
   "execution_count": null,
   "id": "c2fed791",
   "metadata": {},
   "outputs": [],
   "source": [
    "##### These are places which cases are Confirmed recently through the world in the past day alone"
   ]
  },
  {
   "cell_type": "code",
   "execution_count": null,
   "id": "907a21eb",
   "metadata": {},
   "outputs": [],
   "source": [
    "m = folium.Map(location=[54, 15], tiles='openstreetmap', zoom_start=2)\n",
    "\n",
    "for idx, row in df2.iterrows():\n",
    "    folium.Marker([row['lat'], row['lon']], popup=row['Recovered']).add_to(m)\n",
    "\n",
    "m"
   ]
  },
  {
   "cell_type": "code",
   "execution_count": null,
   "id": "86c452c2",
   "metadata": {},
   "outputs": [],
   "source": [
    "m = folium.Map(location=[54, 15], tiles='openstreetmap', zoom_start=2)\n",
    "\n",
    "for idx, row in df2.iterrows():\n",
    "    folium.Marker([row['lat'], row['lon']], popup=row['Deaths']).add_to(m)\n",
    "\n",
    "m"
   ]
  },
  {
   "cell_type": "code",
   "execution_count": null,
   "id": "03c391c5",
   "metadata": {},
   "outputs": [],
   "source": [
    "##### Deaths are from these marked placesin the past day alone"
   ]
  },
  {
   "cell_type": "code",
   "execution_count": null,
   "id": "944bd787",
   "metadata": {},
   "outputs": [],
   "source": [
    "m = folium.Map(location=[54,15], tiles='cartodbpositron', zoom_start=2)\n",
    "\n",
    "from folium.plugins import MarkerCluster\n",
    "mc = MarkerCluster()\n",
    "for idx, row in df2.iterrows():\n",
    "    mc.add_child(folium.Marker([row['lat'], row['lon']],popup=row['Confirmed']))\n",
    "m.add_child(mc)\n",
    "\n",
    "m"
   ]
  },
  {
   "cell_type": "code",
   "execution_count": null,
   "id": "e3586b21",
   "metadata": {},
   "outputs": [],
   "source": [
    "##### These are the Total number cases registered till date in respective regions through out the world"
   ]
  },
  {
   "cell_type": "code",
   "execution_count": null,
   "id": "7f321d3e",
   "metadata": {},
   "outputs": [],
   "source": [
    "from folium.plugins import HeatMap"
   ]
  },
  {
   "cell_type": "code",
   "execution_count": null,
   "id": "cde03a2f",
   "metadata": {},
   "outputs": [],
   "source": [
    "df2.head()"
   ]
  },
  {
   "cell_type": "code",
   "execution_count": null,
   "id": "697bcab9",
   "metadata": {},
   "outputs": [],
   "source": [
    "# Creating map with overall cases registered"
   ]
  },
  {
   "cell_type": "code",
   "execution_count": null,
   "id": "ad1bb67b",
   "metadata": {},
   "outputs": [],
   "source": [
    "m = folium.Map(location=[54,15], zoom_start=2)\n",
    "HeatMap(data=df2[['lat', 'lon','Confirmed']], radius=15).add_to(m)\n",
    "\n",
    "m"
   ]
  },
  {
   "cell_type": "code",
   "execution_count": null,
   "id": "40ee9ee4",
   "metadata": {},
   "outputs": [],
   "source": [
    "##### In these regions the effect of corona virus is more . Countries like Brazil,India & US are suffering a lot."
   ]
  }
 ],
 "metadata": {
  "kernelspec": {
   "display_name": "Python 3 (ipykernel)",
   "language": "python",
   "name": "python3"
  },
  "language_info": {
   "codemirror_mode": {
    "name": "ipython",
    "version": 3
   },
   "file_extension": ".py",
   "mimetype": "text/x-python",
   "name": "python",
   "nbconvert_exporter": "python",
   "pygments_lexer": "ipython3",
   "version": "3.9.19"
  }
 },
 "nbformat": 4,
 "nbformat_minor": 5
}
